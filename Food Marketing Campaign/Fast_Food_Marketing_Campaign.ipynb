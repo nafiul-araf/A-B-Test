{
  "nbformat": 4,
  "nbformat_minor": 0,
  "metadata": {
    "colab": {
      "provenance": []
    },
    "kernelspec": {
      "name": "python3",
      "display_name": "Python 3"
    },
    "language_info": {
      "name": "python"
    }
  },
  "cells": [
    {
      "cell_type": "markdown",
      "source": [
        "# **Overview**"
      ],
      "metadata": {
        "id": "-alboZ-FpAqv"
      }
    },
    {
      "cell_type": "markdown",
      "source": [
        "### **Scenario**\n",
        "\n",
        "A fast-food chain is introducing a new menu item but is unsure which of three proposed marketing campaigns will maximize its sales. To determine the most effective strategy, the chain has conducted an experiment. Each campaign (Promotion 1, Promotion 2, and Promotion 3) was tested in randomly selected locations across various markets for four weeks. Weekly sales data for the new item was collected during this period.\n",
        "\n",
        "The **current average weekly sales** for newly launched products is **\\$50,000 per location**. The marketing team has set a goal to increase sales by at least **\\$4,000 per week per location**. Therefore, any promotion that raises the average weekly sales to **\\$54,000 or more** will be considered a success. The experiment aims to identify which, if any, of the campaigns meets or exceeds this benchmark and determines which campaign performs best overall.\n",
        "\n",
        "---\n",
        "\n",
        "### **Columns Description**\n",
        "- **MarketID**: Identifies the market where the location is situated. Useful for analyzing the impact of promotions across different market areas and controlling for regional effects.\n",
        "- **MarketSize**: Indicates the sales potential of the market (e.g., small, medium, large). Important for understanding whether market size affects the success of a promotion.\n",
        "- **LocationID**: A unique identifier for each store location. Helps in tracking and comparing sales performance across locations.\n",
        "- **AgeOfStore**: The number of years since the store opened. This helps determine if newer or older stores respond differently to promotions.\n",
        "- **Promotion**: Specifies which of the three promotions (1, 2, or 3) was applied at a location. This is the **independent variable** for the A/B test.\n",
        "- **week**: The week number (1–4) during the testing period. Helps evaluate whether the promotion's impact increases, decreases, or remains consistent over time.\n",
        "- **SalesInThousands**: Weekly sales amount (in thousands of dollars) for each location under the assigned promotion. This is the **dependent variable** and the primary metric to evaluate the success of each promotion.\n",
        "\n",
        "---\n",
        "\n",
        "### **Goal**\n",
        "The goal is to analyze the weekly sales data to evaluate the performance of the three promotional strategies. Using A/B testing techniques, you will determine:\n",
        "1. Which promotion, if any, significantly increases weekly sales to the target of **$54,000 or more per location**.\n",
        "2. Whether there are statistically significant differences in the effectiveness of the three campaigns.\n",
        "3. The marketing campaign that works best for maximizing sales of the new menu item."
      ],
      "metadata": {
        "id": "-b19EB1pqjiO"
      }
    },
    {
      "cell_type": "markdown",
      "source": [
        "# **Import Required Libraries and Data Load**"
      ],
      "metadata": {
        "id": "vZH2MGzfAi9r"
      }
    },
    {
      "cell_type": "code",
      "execution_count": null,
      "metadata": {
        "id": "NBElb_IpqKec"
      },
      "outputs": [],
      "source": [
        "import pandas as pd\n",
        "import numpy as np\n",
        "import matplotlib.pyplot as plt\n",
        "import seaborn as sns\n",
        "from scipy import stats\n",
        "import statsmodels.api as sm\n",
        "import statsmodels.stats.api as sms\n",
        "import warnings\n",
        "warnings.filterwarnings('ignore')\n",
        "\n",
        "\n",
        "# Displaying all columns in DataFrames (useful for Jupyter)\n",
        "pd.set_option(\"display.max_columns\", None)"
      ]
    },
    {
      "cell_type": "code",
      "source": [
        "df = pd.read_csv('/content/drive/MyDrive/A B Test/WA_Marketing-Campaign.csv')\n",
        "df.head()"
      ],
      "metadata": {
        "colab": {
          "base_uri": "https://localhost:8080/",
          "height": 206
        },
        "id": "-X0Vsk1WsuiZ",
        "outputId": "3749c70a-ba3a-4361-edb4-6017209c8ae3"
      },
      "execution_count": null,
      "outputs": [
        {
          "output_type": "execute_result",
          "data": {
            "text/plain": [
              "   MarketID MarketSize  LocationID  AgeOfStore  Promotion  week  \\\n",
              "0         1     Medium           1           4          3     1   \n",
              "1         1     Medium           1           4          3     2   \n",
              "2         1     Medium           1           4          3     3   \n",
              "3         1     Medium           1           4          3     4   \n",
              "4         1     Medium           2           5          2     1   \n",
              "\n",
              "   SalesInThousands  \n",
              "0             33.73  \n",
              "1             35.67  \n",
              "2             29.03  \n",
              "3             39.25  \n",
              "4             27.81  "
            ],
            "text/html": [
              "\n",
              "  <div id=\"df-c9976d95-754f-40d6-afc3-cd72ae1a46f7\" class=\"colab-df-container\">\n",
              "    <div>\n",
              "<style scoped>\n",
              "    .dataframe tbody tr th:only-of-type {\n",
              "        vertical-align: middle;\n",
              "    }\n",
              "\n",
              "    .dataframe tbody tr th {\n",
              "        vertical-align: top;\n",
              "    }\n",
              "\n",
              "    .dataframe thead th {\n",
              "        text-align: right;\n",
              "    }\n",
              "</style>\n",
              "<table border=\"1\" class=\"dataframe\">\n",
              "  <thead>\n",
              "    <tr style=\"text-align: right;\">\n",
              "      <th></th>\n",
              "      <th>MarketID</th>\n",
              "      <th>MarketSize</th>\n",
              "      <th>LocationID</th>\n",
              "      <th>AgeOfStore</th>\n",
              "      <th>Promotion</th>\n",
              "      <th>week</th>\n",
              "      <th>SalesInThousands</th>\n",
              "    </tr>\n",
              "  </thead>\n",
              "  <tbody>\n",
              "    <tr>\n",
              "      <th>0</th>\n",
              "      <td>1</td>\n",
              "      <td>Medium</td>\n",
              "      <td>1</td>\n",
              "      <td>4</td>\n",
              "      <td>3</td>\n",
              "      <td>1</td>\n",
              "      <td>33.73</td>\n",
              "    </tr>\n",
              "    <tr>\n",
              "      <th>1</th>\n",
              "      <td>1</td>\n",
              "      <td>Medium</td>\n",
              "      <td>1</td>\n",
              "      <td>4</td>\n",
              "      <td>3</td>\n",
              "      <td>2</td>\n",
              "      <td>35.67</td>\n",
              "    </tr>\n",
              "    <tr>\n",
              "      <th>2</th>\n",
              "      <td>1</td>\n",
              "      <td>Medium</td>\n",
              "      <td>1</td>\n",
              "      <td>4</td>\n",
              "      <td>3</td>\n",
              "      <td>3</td>\n",
              "      <td>29.03</td>\n",
              "    </tr>\n",
              "    <tr>\n",
              "      <th>3</th>\n",
              "      <td>1</td>\n",
              "      <td>Medium</td>\n",
              "      <td>1</td>\n",
              "      <td>4</td>\n",
              "      <td>3</td>\n",
              "      <td>4</td>\n",
              "      <td>39.25</td>\n",
              "    </tr>\n",
              "    <tr>\n",
              "      <th>4</th>\n",
              "      <td>1</td>\n",
              "      <td>Medium</td>\n",
              "      <td>2</td>\n",
              "      <td>5</td>\n",
              "      <td>2</td>\n",
              "      <td>1</td>\n",
              "      <td>27.81</td>\n",
              "    </tr>\n",
              "  </tbody>\n",
              "</table>\n",
              "</div>\n",
              "    <div class=\"colab-df-buttons\">\n",
              "\n",
              "  <div class=\"colab-df-container\">\n",
              "    <button class=\"colab-df-convert\" onclick=\"convertToInteractive('df-c9976d95-754f-40d6-afc3-cd72ae1a46f7')\"\n",
              "            title=\"Convert this dataframe to an interactive table.\"\n",
              "            style=\"display:none;\">\n",
              "\n",
              "  <svg xmlns=\"http://www.w3.org/2000/svg\" height=\"24px\" viewBox=\"0 -960 960 960\">\n",
              "    <path d=\"M120-120v-720h720v720H120Zm60-500h600v-160H180v160Zm220 220h160v-160H400v160Zm0 220h160v-160H400v160ZM180-400h160v-160H180v160Zm440 0h160v-160H620v160ZM180-180h160v-160H180v160Zm440 0h160v-160H620v160Z\"/>\n",
              "  </svg>\n",
              "    </button>\n",
              "\n",
              "  <style>\n",
              "    .colab-df-container {\n",
              "      display:flex;\n",
              "      gap: 12px;\n",
              "    }\n",
              "\n",
              "    .colab-df-convert {\n",
              "      background-color: #E8F0FE;\n",
              "      border: none;\n",
              "      border-radius: 50%;\n",
              "      cursor: pointer;\n",
              "      display: none;\n",
              "      fill: #1967D2;\n",
              "      height: 32px;\n",
              "      padding: 0 0 0 0;\n",
              "      width: 32px;\n",
              "    }\n",
              "\n",
              "    .colab-df-convert:hover {\n",
              "      background-color: #E2EBFA;\n",
              "      box-shadow: 0px 1px 2px rgba(60, 64, 67, 0.3), 0px 1px 3px 1px rgba(60, 64, 67, 0.15);\n",
              "      fill: #174EA6;\n",
              "    }\n",
              "\n",
              "    .colab-df-buttons div {\n",
              "      margin-bottom: 4px;\n",
              "    }\n",
              "\n",
              "    [theme=dark] .colab-df-convert {\n",
              "      background-color: #3B4455;\n",
              "      fill: #D2E3FC;\n",
              "    }\n",
              "\n",
              "    [theme=dark] .colab-df-convert:hover {\n",
              "      background-color: #434B5C;\n",
              "      box-shadow: 0px 1px 3px 1px rgba(0, 0, 0, 0.15);\n",
              "      filter: drop-shadow(0px 1px 2px rgba(0, 0, 0, 0.3));\n",
              "      fill: #FFFFFF;\n",
              "    }\n",
              "  </style>\n",
              "\n",
              "    <script>\n",
              "      const buttonEl =\n",
              "        document.querySelector('#df-c9976d95-754f-40d6-afc3-cd72ae1a46f7 button.colab-df-convert');\n",
              "      buttonEl.style.display =\n",
              "        google.colab.kernel.accessAllowed ? 'block' : 'none';\n",
              "\n",
              "      async function convertToInteractive(key) {\n",
              "        const element = document.querySelector('#df-c9976d95-754f-40d6-afc3-cd72ae1a46f7');\n",
              "        const dataTable =\n",
              "          await google.colab.kernel.invokeFunction('convertToInteractive',\n",
              "                                                    [key], {});\n",
              "        if (!dataTable) return;\n",
              "\n",
              "        const docLinkHtml = 'Like what you see? Visit the ' +\n",
              "          '<a target=\"_blank\" href=https://colab.research.google.com/notebooks/data_table.ipynb>data table notebook</a>'\n",
              "          + ' to learn more about interactive tables.';\n",
              "        element.innerHTML = '';\n",
              "        dataTable['output_type'] = 'display_data';\n",
              "        await google.colab.output.renderOutput(dataTable, element);\n",
              "        const docLink = document.createElement('div');\n",
              "        docLink.innerHTML = docLinkHtml;\n",
              "        element.appendChild(docLink);\n",
              "      }\n",
              "    </script>\n",
              "  </div>\n",
              "\n",
              "\n",
              "<div id=\"df-d3d943bd-f473-41e2-85d5-552b025dc58c\">\n",
              "  <button class=\"colab-df-quickchart\" onclick=\"quickchart('df-d3d943bd-f473-41e2-85d5-552b025dc58c')\"\n",
              "            title=\"Suggest charts\"\n",
              "            style=\"display:none;\">\n",
              "\n",
              "<svg xmlns=\"http://www.w3.org/2000/svg\" height=\"24px\"viewBox=\"0 0 24 24\"\n",
              "     width=\"24px\">\n",
              "    <g>\n",
              "        <path d=\"M19 3H5c-1.1 0-2 .9-2 2v14c0 1.1.9 2 2 2h14c1.1 0 2-.9 2-2V5c0-1.1-.9-2-2-2zM9 17H7v-7h2v7zm4 0h-2V7h2v10zm4 0h-2v-4h2v4z\"/>\n",
              "    </g>\n",
              "</svg>\n",
              "  </button>\n",
              "\n",
              "<style>\n",
              "  .colab-df-quickchart {\n",
              "      --bg-color: #E8F0FE;\n",
              "      --fill-color: #1967D2;\n",
              "      --hover-bg-color: #E2EBFA;\n",
              "      --hover-fill-color: #174EA6;\n",
              "      --disabled-fill-color: #AAA;\n",
              "      --disabled-bg-color: #DDD;\n",
              "  }\n",
              "\n",
              "  [theme=dark] .colab-df-quickchart {\n",
              "      --bg-color: #3B4455;\n",
              "      --fill-color: #D2E3FC;\n",
              "      --hover-bg-color: #434B5C;\n",
              "      --hover-fill-color: #FFFFFF;\n",
              "      --disabled-bg-color: #3B4455;\n",
              "      --disabled-fill-color: #666;\n",
              "  }\n",
              "\n",
              "  .colab-df-quickchart {\n",
              "    background-color: var(--bg-color);\n",
              "    border: none;\n",
              "    border-radius: 50%;\n",
              "    cursor: pointer;\n",
              "    display: none;\n",
              "    fill: var(--fill-color);\n",
              "    height: 32px;\n",
              "    padding: 0;\n",
              "    width: 32px;\n",
              "  }\n",
              "\n",
              "  .colab-df-quickchart:hover {\n",
              "    background-color: var(--hover-bg-color);\n",
              "    box-shadow: 0 1px 2px rgba(60, 64, 67, 0.3), 0 1px 3px 1px rgba(60, 64, 67, 0.15);\n",
              "    fill: var(--button-hover-fill-color);\n",
              "  }\n",
              "\n",
              "  .colab-df-quickchart-complete:disabled,\n",
              "  .colab-df-quickchart-complete:disabled:hover {\n",
              "    background-color: var(--disabled-bg-color);\n",
              "    fill: var(--disabled-fill-color);\n",
              "    box-shadow: none;\n",
              "  }\n",
              "\n",
              "  .colab-df-spinner {\n",
              "    border: 2px solid var(--fill-color);\n",
              "    border-color: transparent;\n",
              "    border-bottom-color: var(--fill-color);\n",
              "    animation:\n",
              "      spin 1s steps(1) infinite;\n",
              "  }\n",
              "\n",
              "  @keyframes spin {\n",
              "    0% {\n",
              "      border-color: transparent;\n",
              "      border-bottom-color: var(--fill-color);\n",
              "      border-left-color: var(--fill-color);\n",
              "    }\n",
              "    20% {\n",
              "      border-color: transparent;\n",
              "      border-left-color: var(--fill-color);\n",
              "      border-top-color: var(--fill-color);\n",
              "    }\n",
              "    30% {\n",
              "      border-color: transparent;\n",
              "      border-left-color: var(--fill-color);\n",
              "      border-top-color: var(--fill-color);\n",
              "      border-right-color: var(--fill-color);\n",
              "    }\n",
              "    40% {\n",
              "      border-color: transparent;\n",
              "      border-right-color: var(--fill-color);\n",
              "      border-top-color: var(--fill-color);\n",
              "    }\n",
              "    60% {\n",
              "      border-color: transparent;\n",
              "      border-right-color: var(--fill-color);\n",
              "    }\n",
              "    80% {\n",
              "      border-color: transparent;\n",
              "      border-right-color: var(--fill-color);\n",
              "      border-bottom-color: var(--fill-color);\n",
              "    }\n",
              "    90% {\n",
              "      border-color: transparent;\n",
              "      border-bottom-color: var(--fill-color);\n",
              "    }\n",
              "  }\n",
              "</style>\n",
              "\n",
              "  <script>\n",
              "    async function quickchart(key) {\n",
              "      const quickchartButtonEl =\n",
              "        document.querySelector('#' + key + ' button');\n",
              "      quickchartButtonEl.disabled = true;  // To prevent multiple clicks.\n",
              "      quickchartButtonEl.classList.add('colab-df-spinner');\n",
              "      try {\n",
              "        const charts = await google.colab.kernel.invokeFunction(\n",
              "            'suggestCharts', [key], {});\n",
              "      } catch (error) {\n",
              "        console.error('Error during call to suggestCharts:', error);\n",
              "      }\n",
              "      quickchartButtonEl.classList.remove('colab-df-spinner');\n",
              "      quickchartButtonEl.classList.add('colab-df-quickchart-complete');\n",
              "    }\n",
              "    (() => {\n",
              "      let quickchartButtonEl =\n",
              "        document.querySelector('#df-d3d943bd-f473-41e2-85d5-552b025dc58c button');\n",
              "      quickchartButtonEl.style.display =\n",
              "        google.colab.kernel.accessAllowed ? 'block' : 'none';\n",
              "    })();\n",
              "  </script>\n",
              "</div>\n",
              "\n",
              "    </div>\n",
              "  </div>\n"
            ],
            "application/vnd.google.colaboratory.intrinsic+json": {
              "type": "dataframe",
              "variable_name": "df",
              "summary": "{\n  \"name\": \"df\",\n  \"rows\": 548,\n  \"fields\": [\n    {\n      \"column\": \"MarketID\",\n      \"properties\": {\n        \"dtype\": \"number\",\n        \"std\": 2,\n        \"min\": 1,\n        \"max\": 10,\n        \"num_unique_values\": 10,\n        \"samples\": [\n          9,\n          2,\n          6\n        ],\n        \"semantic_type\": \"\",\n        \"description\": \"\"\n      }\n    },\n    {\n      \"column\": \"MarketSize\",\n      \"properties\": {\n        \"dtype\": \"category\",\n        \"num_unique_values\": 3,\n        \"samples\": [\n          \"Medium\",\n          \"Small\",\n          \"Large\"\n        ],\n        \"semantic_type\": \"\",\n        \"description\": \"\"\n      }\n    },\n    {\n      \"column\": \"LocationID\",\n      \"properties\": {\n        \"dtype\": \"number\",\n        \"std\": 287,\n        \"min\": 1,\n        \"max\": 920,\n        \"num_unique_values\": 137,\n        \"samples\": [\n          711,\n          710,\n          13\n        ],\n        \"semantic_type\": \"\",\n        \"description\": \"\"\n      }\n    },\n    {\n      \"column\": \"AgeOfStore\",\n      \"properties\": {\n        \"dtype\": \"number\",\n        \"std\": 6,\n        \"min\": 1,\n        \"max\": 28,\n        \"num_unique_values\": 25,\n        \"samples\": [\n          8,\n          9,\n          4\n        ],\n        \"semantic_type\": \"\",\n        \"description\": \"\"\n      }\n    },\n    {\n      \"column\": \"Promotion\",\n      \"properties\": {\n        \"dtype\": \"number\",\n        \"std\": 0,\n        \"min\": 1,\n        \"max\": 3,\n        \"num_unique_values\": 3,\n        \"samples\": [\n          3,\n          2,\n          1\n        ],\n        \"semantic_type\": \"\",\n        \"description\": \"\"\n      }\n    },\n    {\n      \"column\": \"week\",\n      \"properties\": {\n        \"dtype\": \"number\",\n        \"std\": 1,\n        \"min\": 1,\n        \"max\": 4,\n        \"num_unique_values\": 4,\n        \"samples\": [\n          2,\n          4,\n          1\n        ],\n        \"semantic_type\": \"\",\n        \"description\": \"\"\n      }\n    },\n    {\n      \"column\": \"SalesInThousands\",\n      \"properties\": {\n        \"dtype\": \"number\",\n        \"std\": 16.755215821664237,\n        \"min\": 17.34,\n        \"max\": 99.65,\n        \"num_unique_values\": 517,\n        \"samples\": [\n          36.39,\n          51.52,\n          52.64\n        ],\n        \"semantic_type\": \"\",\n        \"description\": \"\"\n      }\n    }\n  ]\n}"
            }
          },
          "metadata": {},
          "execution_count": 2
        }
      ]
    },
    {
      "cell_type": "markdown",
      "source": [
        "# **Data Preprocessing**"
      ],
      "metadata": {
        "id": "VL505qEWA-0a"
      }
    },
    {
      "cell_type": "code",
      "source": [
        "df.shape"
      ],
      "metadata": {
        "colab": {
          "base_uri": "https://localhost:8080/"
        },
        "id": "dJ0uljufs3Fw",
        "outputId": "d1ced4bf-db9a-47ca-b7c6-0364fda41efc"
      },
      "execution_count": null,
      "outputs": [
        {
          "output_type": "execute_result",
          "data": {
            "text/plain": [
              "(548, 7)"
            ]
          },
          "metadata": {},
          "execution_count": 3
        }
      ]
    },
    {
      "cell_type": "code",
      "source": [
        "df.info()"
      ],
      "metadata": {
        "colab": {
          "base_uri": "https://localhost:8080/"
        },
        "id": "RDLlUBqbs48H",
        "outputId": "cdcee2e7-039e-4cb9-b5bc-96d561831c16"
      },
      "execution_count": null,
      "outputs": [
        {
          "output_type": "stream",
          "name": "stdout",
          "text": [
            "<class 'pandas.core.frame.DataFrame'>\n",
            "RangeIndex: 548 entries, 0 to 547\n",
            "Data columns (total 7 columns):\n",
            " #   Column            Non-Null Count  Dtype  \n",
            "---  ------            --------------  -----  \n",
            " 0   MarketID          548 non-null    int64  \n",
            " 1   MarketSize        548 non-null    object \n",
            " 2   LocationID        548 non-null    int64  \n",
            " 3   AgeOfStore        548 non-null    int64  \n",
            " 4   Promotion         548 non-null    int64  \n",
            " 5   week              548 non-null    int64  \n",
            " 6   SalesInThousands  548 non-null    float64\n",
            "dtypes: float64(1), int64(5), object(1)\n",
            "memory usage: 30.1+ KB\n"
          ]
        }
      ]
    },
    {
      "cell_type": "markdown",
      "source": [
        "**There are 548 instances with 7 columns in the dataset. There is no null values. It is good to convert some columns ('MarketID', 'LocationID', 'Promotion', 'week') to cotegorical.**"
      ],
      "metadata": {
        "id": "yxwXUbwzBeIK"
      }
    },
    {
      "cell_type": "code",
      "source": [
        "df.duplicated().sum()"
      ],
      "metadata": {
        "colab": {
          "base_uri": "https://localhost:8080/"
        },
        "id": "xLZ22dWhs7e_",
        "outputId": "02b2e118-8d74-46d8-abe4-f555dc44ecfd"
      },
      "execution_count": null,
      "outputs": [
        {
          "output_type": "execute_result",
          "data": {
            "text/plain": [
              "0"
            ]
          },
          "metadata": {},
          "execution_count": 5
        }
      ]
    },
    {
      "cell_type": "markdown",
      "source": [
        "**There is no duplicate rows in the dataset**"
      ],
      "metadata": {
        "id": "P10YbaRAB_-K"
      }
    },
    {
      "cell_type": "code",
      "source": [
        "df.columns"
      ],
      "metadata": {
        "colab": {
          "base_uri": "https://localhost:8080/"
        },
        "id": "V44ouF82tYjh",
        "outputId": "9e03bb57-a408-433c-abd3-40cc6838a120"
      },
      "execution_count": null,
      "outputs": [
        {
          "output_type": "execute_result",
          "data": {
            "text/plain": [
              "Index(['MarketID', 'MarketSize', 'LocationID', 'AgeOfStore', 'Promotion',\n",
              "       'week', 'SalesInThousands'],\n",
              "      dtype='object')"
            ]
          },
          "metadata": {},
          "execution_count": 6
        }
      ]
    },
    {
      "cell_type": "markdown",
      "source": [
        "**'MarketID', 'LocationID', 'Promotion', 'week' Columns need to be converted to Categorical**"
      ],
      "metadata": {
        "id": "Z9ezedbtBTHa"
      }
    },
    {
      "cell_type": "code",
      "source": [
        "cat_cols = ['MarketID', 'LocationID', 'Promotion', 'week']\n",
        "\n",
        "for column in cat_cols:\n",
        "  df[column] = df[column].astype('category')\n",
        "\n",
        "df.dtypes"
      ],
      "metadata": {
        "colab": {
          "base_uri": "https://localhost:8080/",
          "height": 304
        },
        "id": "HqohJoK3s_sn",
        "outputId": "6101335d-8656-462c-d673-92c09094668d"
      },
      "execution_count": null,
      "outputs": [
        {
          "output_type": "execute_result",
          "data": {
            "text/plain": [
              "MarketID            category\n",
              "MarketSize            object\n",
              "LocationID          category\n",
              "AgeOfStore             int64\n",
              "Promotion           category\n",
              "week                category\n",
              "SalesInThousands     float64\n",
              "dtype: object"
            ],
            "text/html": [
              "<div>\n",
              "<style scoped>\n",
              "    .dataframe tbody tr th:only-of-type {\n",
              "        vertical-align: middle;\n",
              "    }\n",
              "\n",
              "    .dataframe tbody tr th {\n",
              "        vertical-align: top;\n",
              "    }\n",
              "\n",
              "    .dataframe thead th {\n",
              "        text-align: right;\n",
              "    }\n",
              "</style>\n",
              "<table border=\"1\" class=\"dataframe\">\n",
              "  <thead>\n",
              "    <tr style=\"text-align: right;\">\n",
              "      <th></th>\n",
              "      <th>0</th>\n",
              "    </tr>\n",
              "  </thead>\n",
              "  <tbody>\n",
              "    <tr>\n",
              "      <th>MarketID</th>\n",
              "      <td>category</td>\n",
              "    </tr>\n",
              "    <tr>\n",
              "      <th>MarketSize</th>\n",
              "      <td>object</td>\n",
              "    </tr>\n",
              "    <tr>\n",
              "      <th>LocationID</th>\n",
              "      <td>category</td>\n",
              "    </tr>\n",
              "    <tr>\n",
              "      <th>AgeOfStore</th>\n",
              "      <td>int64</td>\n",
              "    </tr>\n",
              "    <tr>\n",
              "      <th>Promotion</th>\n",
              "      <td>category</td>\n",
              "    </tr>\n",
              "    <tr>\n",
              "      <th>week</th>\n",
              "      <td>category</td>\n",
              "    </tr>\n",
              "    <tr>\n",
              "      <th>SalesInThousands</th>\n",
              "      <td>float64</td>\n",
              "    </tr>\n",
              "  </tbody>\n",
              "</table>\n",
              "</div><br><label><b>dtype:</b> object</label>"
            ]
          },
          "metadata": {},
          "execution_count": 7
        }
      ]
    },
    {
      "cell_type": "markdown",
      "source": [
        "# **Exploratory Data Analysis (EDA)**"
      ],
      "metadata": {
        "id": "_tB4WdH1CNSi"
      }
    },
    {
      "cell_type": "code",
      "source": [
        "df.describe().round(2)"
      ],
      "metadata": {
        "colab": {
          "base_uri": "https://localhost:8080/",
          "height": 300
        },
        "id": "YQUlHxQZtsRm",
        "outputId": "8c86a5a2-2601-427c-824d-ce5fddc0b8f9"
      },
      "execution_count": null,
      "outputs": [
        {
          "output_type": "execute_result",
          "data": {
            "text/plain": [
              "       AgeOfStore  SalesInThousands\n",
              "count      548.00            548.00\n",
              "mean         8.50             53.47\n",
              "std          6.64             16.76\n",
              "min          1.00             17.34\n",
              "25%          4.00             42.54\n",
              "50%          7.00             50.20\n",
              "75%         12.00             60.48\n",
              "max         28.00             99.65"
            ],
            "text/html": [
              "\n",
              "  <div id=\"df-6be3d77b-252f-4b7e-8a88-b974ca1731cd\" class=\"colab-df-container\">\n",
              "    <div>\n",
              "<style scoped>\n",
              "    .dataframe tbody tr th:only-of-type {\n",
              "        vertical-align: middle;\n",
              "    }\n",
              "\n",
              "    .dataframe tbody tr th {\n",
              "        vertical-align: top;\n",
              "    }\n",
              "\n",
              "    .dataframe thead th {\n",
              "        text-align: right;\n",
              "    }\n",
              "</style>\n",
              "<table border=\"1\" class=\"dataframe\">\n",
              "  <thead>\n",
              "    <tr style=\"text-align: right;\">\n",
              "      <th></th>\n",
              "      <th>AgeOfStore</th>\n",
              "      <th>SalesInThousands</th>\n",
              "    </tr>\n",
              "  </thead>\n",
              "  <tbody>\n",
              "    <tr>\n",
              "      <th>count</th>\n",
              "      <td>548.00</td>\n",
              "      <td>548.00</td>\n",
              "    </tr>\n",
              "    <tr>\n",
              "      <th>mean</th>\n",
              "      <td>8.50</td>\n",
              "      <td>53.47</td>\n",
              "    </tr>\n",
              "    <tr>\n",
              "      <th>std</th>\n",
              "      <td>6.64</td>\n",
              "      <td>16.76</td>\n",
              "    </tr>\n",
              "    <tr>\n",
              "      <th>min</th>\n",
              "      <td>1.00</td>\n",
              "      <td>17.34</td>\n",
              "    </tr>\n",
              "    <tr>\n",
              "      <th>25%</th>\n",
              "      <td>4.00</td>\n",
              "      <td>42.54</td>\n",
              "    </tr>\n",
              "    <tr>\n",
              "      <th>50%</th>\n",
              "      <td>7.00</td>\n",
              "      <td>50.20</td>\n",
              "    </tr>\n",
              "    <tr>\n",
              "      <th>75%</th>\n",
              "      <td>12.00</td>\n",
              "      <td>60.48</td>\n",
              "    </tr>\n",
              "    <tr>\n",
              "      <th>max</th>\n",
              "      <td>28.00</td>\n",
              "      <td>99.65</td>\n",
              "    </tr>\n",
              "  </tbody>\n",
              "</table>\n",
              "</div>\n",
              "    <div class=\"colab-df-buttons\">\n",
              "\n",
              "  <div class=\"colab-df-container\">\n",
              "    <button class=\"colab-df-convert\" onclick=\"convertToInteractive('df-6be3d77b-252f-4b7e-8a88-b974ca1731cd')\"\n",
              "            title=\"Convert this dataframe to an interactive table.\"\n",
              "            style=\"display:none;\">\n",
              "\n",
              "  <svg xmlns=\"http://www.w3.org/2000/svg\" height=\"24px\" viewBox=\"0 -960 960 960\">\n",
              "    <path d=\"M120-120v-720h720v720H120Zm60-500h600v-160H180v160Zm220 220h160v-160H400v160Zm0 220h160v-160H400v160ZM180-400h160v-160H180v160Zm440 0h160v-160H620v160ZM180-180h160v-160H180v160Zm440 0h160v-160H620v160Z\"/>\n",
              "  </svg>\n",
              "    </button>\n",
              "\n",
              "  <style>\n",
              "    .colab-df-container {\n",
              "      display:flex;\n",
              "      gap: 12px;\n",
              "    }\n",
              "\n",
              "    .colab-df-convert {\n",
              "      background-color: #E8F0FE;\n",
              "      border: none;\n",
              "      border-radius: 50%;\n",
              "      cursor: pointer;\n",
              "      display: none;\n",
              "      fill: #1967D2;\n",
              "      height: 32px;\n",
              "      padding: 0 0 0 0;\n",
              "      width: 32px;\n",
              "    }\n",
              "\n",
              "    .colab-df-convert:hover {\n",
              "      background-color: #E2EBFA;\n",
              "      box-shadow: 0px 1px 2px rgba(60, 64, 67, 0.3), 0px 1px 3px 1px rgba(60, 64, 67, 0.15);\n",
              "      fill: #174EA6;\n",
              "    }\n",
              "\n",
              "    .colab-df-buttons div {\n",
              "      margin-bottom: 4px;\n",
              "    }\n",
              "\n",
              "    [theme=dark] .colab-df-convert {\n",
              "      background-color: #3B4455;\n",
              "      fill: #D2E3FC;\n",
              "    }\n",
              "\n",
              "    [theme=dark] .colab-df-convert:hover {\n",
              "      background-color: #434B5C;\n",
              "      box-shadow: 0px 1px 3px 1px rgba(0, 0, 0, 0.15);\n",
              "      filter: drop-shadow(0px 1px 2px rgba(0, 0, 0, 0.3));\n",
              "      fill: #FFFFFF;\n",
              "    }\n",
              "  </style>\n",
              "\n",
              "    <script>\n",
              "      const buttonEl =\n",
              "        document.querySelector('#df-6be3d77b-252f-4b7e-8a88-b974ca1731cd button.colab-df-convert');\n",
              "      buttonEl.style.display =\n",
              "        google.colab.kernel.accessAllowed ? 'block' : 'none';\n",
              "\n",
              "      async function convertToInteractive(key) {\n",
              "        const element = document.querySelector('#df-6be3d77b-252f-4b7e-8a88-b974ca1731cd');\n",
              "        const dataTable =\n",
              "          await google.colab.kernel.invokeFunction('convertToInteractive',\n",
              "                                                    [key], {});\n",
              "        if (!dataTable) return;\n",
              "\n",
              "        const docLinkHtml = 'Like what you see? Visit the ' +\n",
              "          '<a target=\"_blank\" href=https://colab.research.google.com/notebooks/data_table.ipynb>data table notebook</a>'\n",
              "          + ' to learn more about interactive tables.';\n",
              "        element.innerHTML = '';\n",
              "        dataTable['output_type'] = 'display_data';\n",
              "        await google.colab.output.renderOutput(dataTable, element);\n",
              "        const docLink = document.createElement('div');\n",
              "        docLink.innerHTML = docLinkHtml;\n",
              "        element.appendChild(docLink);\n",
              "      }\n",
              "    </script>\n",
              "  </div>\n",
              "\n",
              "\n",
              "<div id=\"df-b5032197-9135-4466-93e6-1f6f02620b88\">\n",
              "  <button class=\"colab-df-quickchart\" onclick=\"quickchart('df-b5032197-9135-4466-93e6-1f6f02620b88')\"\n",
              "            title=\"Suggest charts\"\n",
              "            style=\"display:none;\">\n",
              "\n",
              "<svg xmlns=\"http://www.w3.org/2000/svg\" height=\"24px\"viewBox=\"0 0 24 24\"\n",
              "     width=\"24px\">\n",
              "    <g>\n",
              "        <path d=\"M19 3H5c-1.1 0-2 .9-2 2v14c0 1.1.9 2 2 2h14c1.1 0 2-.9 2-2V5c0-1.1-.9-2-2-2zM9 17H7v-7h2v7zm4 0h-2V7h2v10zm4 0h-2v-4h2v4z\"/>\n",
              "    </g>\n",
              "</svg>\n",
              "  </button>\n",
              "\n",
              "<style>\n",
              "  .colab-df-quickchart {\n",
              "      --bg-color: #E8F0FE;\n",
              "      --fill-color: #1967D2;\n",
              "      --hover-bg-color: #E2EBFA;\n",
              "      --hover-fill-color: #174EA6;\n",
              "      --disabled-fill-color: #AAA;\n",
              "      --disabled-bg-color: #DDD;\n",
              "  }\n",
              "\n",
              "  [theme=dark] .colab-df-quickchart {\n",
              "      --bg-color: #3B4455;\n",
              "      --fill-color: #D2E3FC;\n",
              "      --hover-bg-color: #434B5C;\n",
              "      --hover-fill-color: #FFFFFF;\n",
              "      --disabled-bg-color: #3B4455;\n",
              "      --disabled-fill-color: #666;\n",
              "  }\n",
              "\n",
              "  .colab-df-quickchart {\n",
              "    background-color: var(--bg-color);\n",
              "    border: none;\n",
              "    border-radius: 50%;\n",
              "    cursor: pointer;\n",
              "    display: none;\n",
              "    fill: var(--fill-color);\n",
              "    height: 32px;\n",
              "    padding: 0;\n",
              "    width: 32px;\n",
              "  }\n",
              "\n",
              "  .colab-df-quickchart:hover {\n",
              "    background-color: var(--hover-bg-color);\n",
              "    box-shadow: 0 1px 2px rgba(60, 64, 67, 0.3), 0 1px 3px 1px rgba(60, 64, 67, 0.15);\n",
              "    fill: var(--button-hover-fill-color);\n",
              "  }\n",
              "\n",
              "  .colab-df-quickchart-complete:disabled,\n",
              "  .colab-df-quickchart-complete:disabled:hover {\n",
              "    background-color: var(--disabled-bg-color);\n",
              "    fill: var(--disabled-fill-color);\n",
              "    box-shadow: none;\n",
              "  }\n",
              "\n",
              "  .colab-df-spinner {\n",
              "    border: 2px solid var(--fill-color);\n",
              "    border-color: transparent;\n",
              "    border-bottom-color: var(--fill-color);\n",
              "    animation:\n",
              "      spin 1s steps(1) infinite;\n",
              "  }\n",
              "\n",
              "  @keyframes spin {\n",
              "    0% {\n",
              "      border-color: transparent;\n",
              "      border-bottom-color: var(--fill-color);\n",
              "      border-left-color: var(--fill-color);\n",
              "    }\n",
              "    20% {\n",
              "      border-color: transparent;\n",
              "      border-left-color: var(--fill-color);\n",
              "      border-top-color: var(--fill-color);\n",
              "    }\n",
              "    30% {\n",
              "      border-color: transparent;\n",
              "      border-left-color: var(--fill-color);\n",
              "      border-top-color: var(--fill-color);\n",
              "      border-right-color: var(--fill-color);\n",
              "    }\n",
              "    40% {\n",
              "      border-color: transparent;\n",
              "      border-right-color: var(--fill-color);\n",
              "      border-top-color: var(--fill-color);\n",
              "    }\n",
              "    60% {\n",
              "      border-color: transparent;\n",
              "      border-right-color: var(--fill-color);\n",
              "    }\n",
              "    80% {\n",
              "      border-color: transparent;\n",
              "      border-right-color: var(--fill-color);\n",
              "      border-bottom-color: var(--fill-color);\n",
              "    }\n",
              "    90% {\n",
              "      border-color: transparent;\n",
              "      border-bottom-color: var(--fill-color);\n",
              "    }\n",
              "  }\n",
              "</style>\n",
              "\n",
              "  <script>\n",
              "    async function quickchart(key) {\n",
              "      const quickchartButtonEl =\n",
              "        document.querySelector('#' + key + ' button');\n",
              "      quickchartButtonEl.disabled = true;  // To prevent multiple clicks.\n",
              "      quickchartButtonEl.classList.add('colab-df-spinner');\n",
              "      try {\n",
              "        const charts = await google.colab.kernel.invokeFunction(\n",
              "            'suggestCharts', [key], {});\n",
              "      } catch (error) {\n",
              "        console.error('Error during call to suggestCharts:', error);\n",
              "      }\n",
              "      quickchartButtonEl.classList.remove('colab-df-spinner');\n",
              "      quickchartButtonEl.classList.add('colab-df-quickchart-complete');\n",
              "    }\n",
              "    (() => {\n",
              "      let quickchartButtonEl =\n",
              "        document.querySelector('#df-b5032197-9135-4466-93e6-1f6f02620b88 button');\n",
              "      quickchartButtonEl.style.display =\n",
              "        google.colab.kernel.accessAllowed ? 'block' : 'none';\n",
              "    })();\n",
              "  </script>\n",
              "</div>\n",
              "\n",
              "    </div>\n",
              "  </div>\n"
            ],
            "application/vnd.google.colaboratory.intrinsic+json": {
              "type": "dataframe",
              "summary": "{\n  \"name\": \"df\",\n  \"rows\": 8,\n  \"fields\": [\n    {\n      \"column\": \"AgeOfStore\",\n      \"properties\": {\n        \"dtype\": \"number\",\n        \"std\": 190.53109500626329,\n        \"min\": 1.0,\n        \"max\": 548.0,\n        \"num_unique_values\": 8,\n        \"samples\": [\n          8.5,\n          7.0,\n          548.0\n        ],\n        \"semantic_type\": \"\",\n        \"description\": \"\"\n      }\n    },\n    {\n      \"column\": \"SalesInThousands\",\n      \"properties\": {\n        \"dtype\": \"number\",\n        \"std\": 178.48431479704715,\n        \"min\": 16.76,\n        \"max\": 548.0,\n        \"num_unique_values\": 8,\n        \"samples\": [\n          53.47,\n          50.2,\n          548.0\n        ],\n        \"semantic_type\": \"\",\n        \"description\": \"\"\n      }\n    }\n  ]\n}"
            }
          },
          "metadata": {},
          "execution_count": 8
        }
      ]
    },
    {
      "cell_type": "markdown",
      "source": [
        "**Summary Statistics:**\n",
        "\n",
        "The dataset contains **548 observations** for both the **age of the stores** and their **weekly sales in thousands**. The **average age** of the stores is **8.5 years**, with a **standard deviation** of **6.64 years**, ranging from **1 to 28 years**. **Sales in thousands** have an **average** of **53.47**, with a **standard deviation** of **16.76**, indicating **moderate variability** in sales performance. The **minimum sales** recorded are **17.34**, while the **maximum** is **99.65**. The **median** (**50th percentile**) sales value is **50.20**, suggesting that half of the stores achieve weekly sales below this value. The **interquartile range** for sales (**42.54 to 60.48**) reveals that most stores fall within this range, indicating a concentration of sales near the mean. These statistics suggest that while there is **variability** in both **store age** and **sales**, most stores achieve sales within a **relatively stable range**, with a few **outliers** reaching the extremes."
      ],
      "metadata": {
        "id": "QqLPmBmpCs-p"
      }
    },
    {
      "cell_type": "code",
      "source": [
        "fig, ax = plt.subplots(1, 2, figsize = (15, 6))\n",
        "\n",
        "sns.histplot(data = df, x = 'AgeOfStore', hue = 'MarketSize', kde = True, ax = ax[0])\n",
        "ax[0].set_title(\"Distribution of Age of the Store\")\n",
        "\n",
        "sns.histplot(data = df, x = 'SalesInThousands', hue = 'MarketSize', kde = True, ax = ax[1])\n",
        "ax[1].set_title(\"Distribution of Sales\")\n",
        "ax[1].set_ylabel('')\n",
        "\n",
        "plt.show()"
      ],
      "metadata": {
        "colab": {
          "base_uri": "https://localhost:8080/",
          "height": 564
        },
        "id": "BdSrDhwWx_K-",
        "outputId": "a3078697-c90d-4221-86b9-d2748ed28c5e"
      },
      "execution_count": null,
      "outputs": [
        {
          "output_type": "display_data",
          "data": {
            "text/plain": [
              "<Figure size 1500x600 with 2 Axes>"
            ],
            "image/png": "[encoded data removed]"
          },
          "metadata": {}
        }
      ]
    },
    {
      "cell_type": "markdown",
      "source": [
        "**Distribution:**\n",
        "\n",
        "The histograms with **KDE plots** illustrate the **distributions of Age of the Store** and **Sales in Thousands**, segmented by **MarketSize** (Small, Medium, Large). For the **Age of the Store**, most stores fall within the **younger age range (0-10 years)**, especially in **Medium-sized markets**, while **Large markets** have a slightly higher representation in older stores. For **Sales**, **Medium markets** dominate with sales concentrated around **40 to 60 thousand**, reflecting a **normal-like distribution**. **Small markets** have a lower sales range, mostly between **30 and 50 thousand**, whereas **Large markets** show a bimodal distribution with sales peaks at both **40-50 thousand** and **80-90 thousand**, indicating **variability in performance**. The **KDE curves** highlight the differences in distribution shapes, emphasizing that **market size** significantly impacts both **store age** and **sales performance**. These trends suggest that **Medium markets** have consistent performance, while **Large markets** exhibit **greater sales diversity**."
      ],
      "metadata": {
        "id": "O7wuGXb8DljT"
      }
    },
    {
      "cell_type": "markdown",
      "source": [
        "## **Sales Analysis**"
      ],
      "metadata": {
        "id": "i8rzecgjD_VR"
      }
    },
    {
      "cell_type": "code",
      "source": [
        "avg_sales_per_location = df.groupby('LocationID')['SalesInThousands'].mean().reset_index()\n",
        "avg_sales_per_location.rename(columns={\"SalesInThousands\": \"AvgWeeklySales\"}, inplace=True)\n",
        "print(avg_sales_per_location)"
      ],
      "metadata": {
        "colab": {
          "base_uri": "https://localhost:8080/"
        },
        "id": "FR0ccm3BywfN",
        "outputId": "c6efe458-6cb4-4438-96ff-7c0d3bc53232"
      },
      "execution_count": null,
      "outputs": [
        {
          "output_type": "stream",
          "name": "stdout",
          "text": [
            "    LocationID  AvgWeeklySales\n",
            "0            1         34.4200\n",
            "1            2         29.5450\n",
            "2            3         40.6800\n",
            "3            4         33.7075\n",
            "4            5         29.0025\n",
            "..         ...             ...\n",
            "132        916         47.7600\n",
            "133        917         52.9675\n",
            "134        918         55.9750\n",
            "135        919         61.1000\n",
            "136        920         47.4125\n",
            "\n",
            "[137 rows x 2 columns]\n"
          ]
        }
      ]
    },
    {
      "cell_type": "code",
      "source": [
        "avg_sales_per_location.describe().round(2)"
      ],
      "metadata": {
        "colab": {
          "base_uri": "https://localhost:8080/",
          "height": 300
        },
        "id": "cOjPgWzV0zP5",
        "outputId": "384f7365-2f77-4f0d-ea54-4837159fe7b5"
      },
      "execution_count": null,
      "outputs": [
        {
          "output_type": "execute_result",
          "data": {
            "text/plain": [
              "       AvgWeeklySales\n",
              "count          137.00\n",
              "mean            53.47\n",
              "std             16.19\n",
              "min             27.84\n",
              "25%             43.24\n",
              "50%             49.72\n",
              "75%             59.04\n",
              "max             95.09"
            ],
            "text/html": [
              "\n",
              "  <div id=\"df-d7ab9b3f-1605-41cf-9a2e-ec22b4e4c338\" class=\"colab-df-container\">\n",
              "    <div>\n",
              "<style scoped>\n",
              "    .dataframe tbody tr th:only-of-type {\n",
              "        vertical-align: middle;\n",
              "    }\n",
              "\n",
              "    .dataframe tbody tr th {\n",
              "        vertical-align: top;\n",
              "    }\n",
              "\n",
              "    .dataframe thead th {\n",
              "        text-align: right;\n",
              "    }\n",
              "</style>\n",
              "<table border=\"1\" class=\"dataframe\">\n",
              "  <thead>\n",
              "    <tr style=\"text-align: right;\">\n",
              "      <th></th>\n",
              "      <th>AvgWeeklySales</th>\n",
              "    </tr>\n",
              "  </thead>\n",
              "  <tbody>\n",
              "    <tr>\n",
              "      <th>count</th>\n",
              "      <td>137.00</td>\n",
              "    </tr>\n",
              "    <tr>\n",
              "      <th>mean</th>\n",
              "      <td>53.47</td>\n",
              "    </tr>\n",
              "    <tr>\n",
              "      <th>std</th>\n",
              "      <td>16.19</td>\n",
              "    </tr>\n",
              "    <tr>\n",
              "      <th>min</th>\n",
              "      <td>27.84</td>\n",
              "    </tr>\n",
              "    <tr>\n",
              "      <th>25%</th>\n",
              "      <td>43.24</td>\n",
              "    </tr>\n",
              "    <tr>\n",
              "      <th>50%</th>\n",
              "      <td>49.72</td>\n",
              "    </tr>\n",
              "    <tr>\n",
              "      <th>75%</th>\n",
              "      <td>59.04</td>\n",
              "    </tr>\n",
              "    <tr>\n",
              "      <th>max</th>\n",
              "      <td>95.09</td>\n",
              "    </tr>\n",
              "  </tbody>\n",
              "</table>\n",
              "</div>\n",
              "    <div class=\"colab-df-buttons\">\n",
              "\n",
              "  <div class=\"colab-df-container\">\n",
              "    <button class=\"colab-df-convert\" onclick=\"convertToInteractive('df-d7ab9b3f-1605-41cf-9a2e-ec22b4e4c338')\"\n",
              "            title=\"Convert this dataframe to an interactive table.\"\n",
              "            style=\"display:none;\">\n",
              "\n",
              "  <svg xmlns=\"http://www.w3.org/2000/svg\" height=\"24px\" viewBox=\"0 -960 960 960\">\n",
              "    <path d=\"M120-120v-720h720v720H120Zm60-500h600v-160H180v160Zm220 220h160v-160H400v160Zm0 220h160v-160H400v160ZM180-400h160v-160H180v160Zm440 0h160v-160H620v160ZM180-180h160v-160H180v160Zm440 0h160v-160H620v160Z\"/>\n",
              "  </svg>\n",
              "    </button>\n",
              "\n",
              "  <style>\n",
              "    .colab-df-container {\n",
              "      display:flex;\n",
              "      gap: 12px;\n",
              "    }\n",
              "\n",
              "    .colab-df-convert {\n",
              "      background-color: #E8F0FE;\n",
              "      border: none;\n",
              "      border-radius: 50%;\n",
              "      cursor: pointer;\n",
              "      display: none;\n",
              "      fill: #1967D2;\n",
              "      height: 32px;\n",
              "      padding: 0 0 0 0;\n",
              "      width: 32px;\n",
              "    }\n",
              "\n",
              "    .colab-df-convert:hover {\n",
              "      background-color: #E2EBFA;\n",
              "      box-shadow: 0px 1px 2px rgba(60, 64, 67, 0.3), 0px 1px 3px 1px rgba(60, 64, 67, 0.15);\n",
              "      fill: #174EA6;\n",
              "    }\n",
              "\n",
              "    .colab-df-buttons div {\n",
              "      margin-bottom: 4px;\n",
              "    }\n",
              "\n",
              "    [theme=dark] .colab-df-convert {\n",
              "      background-color: #3B4455;\n",
              "      fill: #D2E3FC;\n",
              "    }\n",
              "\n",
              "    [theme=dark] .colab-df-convert:hover {\n",
              "      background-color: #434B5C;\n",
              "      box-shadow: 0px 1px 3px 1px rgba(0, 0, 0, 0.15);\n",
              "      filter: drop-shadow(0px 1px 2px rgba(0, 0, 0, 0.3));\n",
              "      fill: #FFFFFF;\n",
              "    }\n",
              "  </style>\n",
              "\n",
              "    <script>\n",
              "      const buttonEl =\n",
              "        document.querySelector('#df-d7ab9b3f-1605-41cf-9a2e-ec22b4e4c338 button.colab-df-convert');\n",
              "      buttonEl.style.display =\n",
              "        google.colab.kernel.accessAllowed ? 'block' : 'none';\n",
              "\n",
              "      async function convertToInteractive(key) {\n",
              "        const element = document.querySelector('#df-d7ab9b3f-1605-41cf-9a2e-ec22b4e4c338');\n",
              "        const dataTable =\n",
              "          await google.colab.kernel.invokeFunction('convertToInteractive',\n",
              "                                                    [key], {});\n",
              "        if (!dataTable) return;\n",
              "\n",
              "        const docLinkHtml = 'Like what you see? Visit the ' +\n",
              "          '<a target=\"_blank\" href=https://colab.research.google.com/notebooks/data_table.ipynb>data table notebook</a>'\n",
              "          + ' to learn more about interactive tables.';\n",
              "        element.innerHTML = '';\n",
              "        dataTable['output_type'] = 'display_data';\n",
              "        await google.colab.output.renderOutput(dataTable, element);\n",
              "        const docLink = document.createElement('div');\n",
              "        docLink.innerHTML = docLinkHtml;\n",
              "        element.appendChild(docLink);\n",
              "      }\n",
              "    </script>\n",
              "  </div>\n",
              "\n",
              "\n",
              "<div id=\"df-3efd8b0b-3e2e-4bd7-84fb-1bd888b73645\">\n",
              "  <button class=\"colab-df-quickchart\" onclick=\"quickchart('df-3efd8b0b-3e2e-4bd7-84fb-1bd888b73645')\"\n",
              "            title=\"Suggest charts\"\n",
              "            style=\"display:none;\">\n",
              "\n",
              "<svg xmlns=\"http://www.w3.org/2000/svg\" height=\"24px\"viewBox=\"0 0 24 24\"\n",
              "     width=\"24px\">\n",
              "    <g>\n",
              "        <path d=\"M19 3H5c-1.1 0-2 .9-2 2v14c0 1.1.9 2 2 2h14c1.1 0 2-.9 2-2V5c0-1.1-.9-2-2-2zM9 17H7v-7h2v7zm4 0h-2V7h2v10zm4 0h-2v-4h2v4z\"/>\n",
              "    </g>\n",
              "</svg>\n",
              "  </button>\n",
              "\n",
              "<style>\n",
              "  .colab-df-quickchart {\n",
              "      --bg-color: #E8F0FE;\n",
              "      --fill-color: #1967D2;\n",
              "      --hover-bg-color: #E2EBFA;\n",
              "      --hover-fill-color: #174EA6;\n",
              "      --disabled-fill-color: #AAA;\n",
              "      --disabled-bg-color: #DDD;\n",
              "  }\n",
              "\n",
              "  [theme=dark] .colab-df-quickchart {\n",
              "      --bg-color: #3B4455;\n",
              "      --fill-color: #D2E3FC;\n",
              "      --hover-bg-color: #434B5C;\n",
              "      --hover-fill-color: #FFFFFF;\n",
              "      --disabled-bg-color: #3B4455;\n",
              "      --disabled-fill-color: #666;\n",
              "  }\n",
              "\n",
              "  .colab-df-quickchart {\n",
              "    background-color: var(--bg-color);\n",
              "    border: none;\n",
              "    border-radius: 50%;\n",
              "    cursor: pointer;\n",
              "    display: none;\n",
              "    fill: var(--fill-color);\n",
              "    height: 32px;\n",
              "    padding: 0;\n",
              "    width: 32px;\n",
              "  }\n",
              "\n",
              "  .colab-df-quickchart:hover {\n",
              "    background-color: var(--hover-bg-color);\n",
              "    box-shadow: 0 1px 2px rgba(60, 64, 67, 0.3), 0 1px 3px 1px rgba(60, 64, 67, 0.15);\n",
              "    fill: var(--button-hover-fill-color);\n",
              "  }\n",
              "\n",
              "  .colab-df-quickchart-complete:disabled,\n",
              "  .colab-df-quickchart-complete:disabled:hover {\n",
              "    background-color: var(--disabled-bg-color);\n",
              "    fill: var(--disabled-fill-color);\n",
              "    box-shadow: none;\n",
              "  }\n",
              "\n",
              "  .colab-df-spinner {\n",
              "    border: 2px solid var(--fill-color);\n",
              "    border-color: transparent;\n",
              "    border-bottom-color: var(--fill-color);\n",
              "    animation:\n",
              "      spin 1s steps(1) infinite;\n",
              "  }\n",
              "\n",
              "  @keyframes spin {\n",
              "    0% {\n",
              "      border-color: transparent;\n",
              "      border-bottom-color: var(--fill-color);\n",
              "      border-left-color: var(--fill-color);\n",
              "    }\n",
              "    20% {\n",
              "      border-color: transparent;\n",
              "      border-left-color: var(--fill-color);\n",
              "      border-top-color: var(--fill-color);\n",
              "    }\n",
              "    30% {\n",
              "      border-color: transparent;\n",
              "      border-left-color: var(--fill-color);\n",
              "      border-top-color: var(--fill-color);\n",
              "      border-right-color: var(--fill-color);\n",
              "    }\n",
              "    40% {\n",
              "      border-color: transparent;\n",
              "      border-right-color: var(--fill-color);\n",
              "      border-top-color: var(--fill-color);\n",
              "    }\n",
              "    60% {\n",
              "      border-color: transparent;\n",
              "      border-right-color: var(--fill-color);\n",
              "    }\n",
              "    80% {\n",
              "      border-color: transparent;\n",
              "      border-right-color: var(--fill-color);\n",
              "      border-bottom-color: var(--fill-color);\n",
              "    }\n",
              "    90% {\n",
              "      border-color: transparent;\n",
              "      border-bottom-color: var(--fill-color);\n",
              "    }\n",
              "  }\n",
              "</style>\n",
              "\n",
              "  <script>\n",
              "    async function quickchart(key) {\n",
              "      const quickchartButtonEl =\n",
              "        document.querySelector('#' + key + ' button');\n",
              "      quickchartButtonEl.disabled = true;  // To prevent multiple clicks.\n",
              "      quickchartButtonEl.classList.add('colab-df-spinner');\n",
              "      try {\n",
              "        const charts = await google.colab.kernel.invokeFunction(\n",
              "            'suggestCharts', [key], {});\n",
              "      } catch (error) {\n",
              "        console.error('Error during call to suggestCharts:', error);\n",
              "      }\n",
              "      quickchartButtonEl.classList.remove('colab-df-spinner');\n",
              "      quickchartButtonEl.classList.add('colab-df-quickchart-complete');\n",
              "    }\n",
              "    (() => {\n",
              "      let quickchartButtonEl =\n",
              "        document.querySelector('#df-3efd8b0b-3e2e-4bd7-84fb-1bd888b73645 button');\n",
              "      quickchartButtonEl.style.display =\n",
              "        google.colab.kernel.accessAllowed ? 'block' : 'none';\n",
              "    })();\n",
              "  </script>\n",
              "</div>\n",
              "\n",
              "    </div>\n",
              "  </div>\n"
            ],
            "application/vnd.google.colaboratory.intrinsic+json": {
              "type": "dataframe",
              "summary": "{\n  \"name\": \"avg_sales_per_location\",\n  \"rows\": 8,\n  \"fields\": [\n    {\n      \"column\": \"AvgWeeklySales\",\n      \"properties\": {\n        \"dtype\": \"number\",\n        \"std\": 38.8103673327115,\n        \"min\": 16.19,\n        \"max\": 137.0,\n        \"num_unique_values\": 8,\n        \"samples\": [\n          53.47,\n          49.72,\n          137.0\n        ],\n        \"semantic_type\": \"\",\n        \"description\": \"\"\n      }\n    }\n  ]\n}"
            }
          },
          "metadata": {},
          "execution_count": 11
        }
      ]
    },
    {
      "cell_type": "code",
      "source": [
        "avg_sales_per_location['AvgWeeklySales'].mean()"
      ],
      "metadata": {
        "colab": {
          "base_uri": "https://localhost:8080/"
        },
        "id": "jWa1HgRk1Abo",
        "outputId": "3e19a0e6-2b1f-4b97-bf27-81155a601f21"
      },
      "execution_count": null,
      "outputs": [
        {
          "output_type": "execute_result",
          "data": {
            "text/plain": [
              "53.46620437956204"
            ]
          },
          "metadata": {},
          "execution_count": 12
        }
      ]
    },
    {
      "cell_type": "markdown",
      "source": [
        "**Average Weekly Sales per Location:**\n",
        "\n",
        "The summary statistics of **average weekly sales per location** reveal that the **mean sales** are **53.47 thousand**, with a **standard deviation** of **16.19 thousand**, indicating moderate variability across locations. The **minimum sales** recorded are **27.84 thousand**, while the **maximum** is **95.09 thousand**, showing a wide range. The **median sales** value is **49.72 thousand**, with the **25th and 75th percentiles** at **43.24 thousand** and **59.04 thousand**, respectively, suggesting that most locations have sales concentrated around these values."
      ],
      "metadata": {
        "id": "dfDNCabfEfUB"
      }
    },
    {
      "cell_type": "code",
      "source": [
        "avg_sales_per_week = df.groupby('week')['SalesInThousands'].mean().reset_index()\n",
        "avg_sales_per_week.rename(columns={\"SalesInThousands\": \"AvgWeeklySales\"}, inplace=True)\n",
        "avg_sales_per_week"
      ],
      "metadata": {
        "colab": {
          "base_uri": "https://localhost:8080/",
          "height": 175
        },
        "id": "Pgt_hfSV1Pvf",
        "outputId": "6664d83b-08f6-4f2f-aaef-82bf2b18055d"
      },
      "execution_count": null,
      "outputs": [
        {
          "output_type": "execute_result",
          "data": {
            "text/plain": [
              "  week  AvgWeeklySales\n",
              "0    1       53.790584\n",
              "1    2       53.386569\n",
              "2    3       53.474599\n",
              "3    4       53.213066"
            ],
            "text/html": [
              "\n",
              "  <div id=\"df-a5c293c4-03a7-4c39-a65a-7de82c944e57\" class=\"colab-df-container\">\n",
              "    <div>\n",
              "<style scoped>\n",
              "    .dataframe tbody tr th:only-of-type {\n",
              "        vertical-align: middle;\n",
              "    }\n",
              "\n",
              "    .dataframe tbody tr th {\n",
              "        vertical-align: top;\n",
              "    }\n",
              "\n",
              "    .dataframe thead th {\n",
              "        text-align: right;\n",
              "    }\n",
              "</style>\n",
              "<table border=\"1\" class=\"dataframe\">\n",
              "  <thead>\n",
              "    <tr style=\"text-align: right;\">\n",
              "      <th></th>\n",
              "      <th>week</th>\n",
              "      <th>AvgWeeklySales</th>\n",
              "    </tr>\n",
              "  </thead>\n",
              "  <tbody>\n",
              "    <tr>\n",
              "      <th>0</th>\n",
              "      <td>1</td>\n",
              "      <td>53.790584</td>\n",
              "    </tr>\n",
              "    <tr>\n",
              "      <th>1</th>\n",
              "      <td>2</td>\n",
              "      <td>53.386569</td>\n",
              "    </tr>\n",
              "    <tr>\n",
              "      <th>2</th>\n",
              "      <td>3</td>\n",
              "      <td>53.474599</td>\n",
              "    </tr>\n",
              "    <tr>\n",
              "      <th>3</th>\n",
              "      <td>4</td>\n",
              "      <td>53.213066</td>\n",
              "    </tr>\n",
              "  </tbody>\n",
              "</table>\n",
              "</div>\n",
              "    <div class=\"colab-df-buttons\">\n",
              "\n",
              "  <div class=\"colab-df-container\">\n",
              "    <button class=\"colab-df-convert\" onclick=\"convertToInteractive('df-a5c293c4-03a7-4c39-a65a-7de82c944e57')\"\n",
              "            title=\"Convert this dataframe to an interactive table.\"\n",
              "            style=\"display:none;\">\n",
              "\n",
              "  <svg xmlns=\"http://www.w3.org/2000/svg\" height=\"24px\" viewBox=\"0 -960 960 960\">\n",
              "    <path d=\"M120-120v-720h720v720H120Zm60-500h600v-160H180v160Zm220 220h160v-160H400v160Zm0 220h160v-160H400v160ZM180-400h160v-160H180v160Zm440 0h160v-160H620v160ZM180-180h160v-160H180v160Zm440 0h160v-160H620v160Z\"/>\n",
              "  </svg>\n",
              "    </button>\n",
              "\n",
              "  <style>\n",
              "    .colab-df-container {\n",
              "      display:flex;\n",
              "      gap: 12px;\n",
              "    }\n",
              "\n",
              "    .colab-df-convert {\n",
              "      background-color: #E8F0FE;\n",
              "      border: none;\n",
              "      border-radius: 50%;\n",
              "      cursor: pointer;\n",
              "      display: none;\n",
              "      fill: #1967D2;\n",
              "      height: 32px;\n",
              "      padding: 0 0 0 0;\n",
              "      width: 32px;\n",
              "    }\n",
              "\n",
              "    .colab-df-convert:hover {\n",
              "      background-color: #E2EBFA;\n",
              "      box-shadow: 0px 1px 2px rgba(60, 64, 67, 0.3), 0px 1px 3px 1px rgba(60, 64, 67, 0.15);\n",
              "      fill: #174EA6;\n",
              "    }\n",
              "\n",
              "    .colab-df-buttons div {\n",
              "      margin-bottom: 4px;\n",
              "    }\n",
              "\n",
              "    [theme=dark] .colab-df-convert {\n",
              "      background-color: #3B4455;\n",
              "      fill: #D2E3FC;\n",
              "    }\n",
              "\n",
              "    [theme=dark] .colab-df-convert:hover {\n",
              "      background-color: #434B5C;\n",
              "      box-shadow: 0px 1px 3px 1px rgba(0, 0, 0, 0.15);\n",
              "      filter: drop-shadow(0px 1px 2px rgba(0, 0, 0, 0.3));\n",
              "      fill: #FFFFFF;\n",
              "    }\n",
              "  </style>\n",
              "\n",
              "    <script>\n",
              "      const buttonEl =\n",
              "        document.querySelector('#df-a5c293c4-03a7-4c39-a65a-7de82c944e57 button.colab-df-convert');\n",
              "      buttonEl.style.display =\n",
              "        google.colab.kernel.accessAllowed ? 'block' : 'none';\n",
              "\n",
              "      async function convertToInteractive(key) {\n",
              "        const element = document.querySelector('#df-a5c293c4-03a7-4c39-a65a-7de82c944e57');\n",
              "        const dataTable =\n",
              "          await google.colab.kernel.invokeFunction('convertToInteractive',\n",
              "                                                    [key], {});\n",
              "        if (!dataTable) return;\n",
              "\n",
              "        const docLinkHtml = 'Like what you see? Visit the ' +\n",
              "          '<a target=\"_blank\" href=https://colab.research.google.com/notebooks/data_table.ipynb>data table notebook</a>'\n",
              "          + ' to learn more about interactive tables.';\n",
              "        element.innerHTML = '';\n",
              "        dataTable['output_type'] = 'display_data';\n",
              "        await google.colab.output.renderOutput(dataTable, element);\n",
              "        const docLink = document.createElement('div');\n",
              "        docLink.innerHTML = docLinkHtml;\n",
              "        element.appendChild(docLink);\n",
              "      }\n",
              "    </script>\n",
              "  </div>\n",
              "\n",
              "\n",
              "<div id=\"df-f6200966-bab8-4e51-9aaf-9b992b1730c2\">\n",
              "  <button class=\"colab-df-quickchart\" onclick=\"quickchart('df-f6200966-bab8-4e51-9aaf-9b992b1730c2')\"\n",
              "            title=\"Suggest charts\"\n",
              "            style=\"display:none;\">\n",
              "\n",
              "<svg xmlns=\"http://www.w3.org/2000/svg\" height=\"24px\"viewBox=\"0 0 24 24\"\n",
              "     width=\"24px\">\n",
              "    <g>\n",
              "        <path d=\"M19 3H5c-1.1 0-2 .9-2 2v14c0 1.1.9 2 2 2h14c1.1 0 2-.9 2-2V5c0-1.1-.9-2-2-2zM9 17H7v-7h2v7zm4 0h-2V7h2v10zm4 0h-2v-4h2v4z\"/>\n",
              "    </g>\n",
              "</svg>\n",
              "  </button>\n",
              "\n",
              "<style>\n",
              "  .colab-df-quickchart {\n",
              "      --bg-color: #E8F0FE;\n",
              "      --fill-color: #1967D2;\n",
              "      --hover-bg-color: #E2EBFA;\n",
              "      --hover-fill-color: #174EA6;\n",
              "      --disabled-fill-color: #AAA;\n",
              "      --disabled-bg-color: #DDD;\n",
              "  }\n",
              "\n",
              "  [theme=dark] .colab-df-quickchart {\n",
              "      --bg-color: #3B4455;\n",
              "      --fill-color: #D2E3FC;\n",
              "      --hover-bg-color: #434B5C;\n",
              "      --hover-fill-color: #FFFFFF;\n",
              "      --disabled-bg-color: #3B4455;\n",
              "      --disabled-fill-color: #666;\n",
              "  }\n",
              "\n",
              "  .colab-df-quickchart {\n",
              "    background-color: var(--bg-color);\n",
              "    border: none;\n",
              "    border-radius: 50%;\n",
              "    cursor: pointer;\n",
              "    display: none;\n",
              "    fill: var(--fill-color);\n",
              "    height: 32px;\n",
              "    padding: 0;\n",
              "    width: 32px;\n",
              "  }\n",
              "\n",
              "  .colab-df-quickchart:hover {\n",
              "    background-color: var(--hover-bg-color);\n",
              "    box-shadow: 0 1px 2px rgba(60, 64, 67, 0.3), 0 1px 3px 1px rgba(60, 64, 67, 0.15);\n",
              "    fill: var(--button-hover-fill-color);\n",
              "  }\n",
              "\n",
              "  .colab-df-quickchart-complete:disabled,\n",
              "  .colab-df-quickchart-complete:disabled:hover {\n",
              "    background-color: var(--disabled-bg-color);\n",
              "    fill: var(--disabled-fill-color);\n",
              "    box-shadow: none;\n",
              "  }\n",
              "\n",
              "  .colab-df-spinner {\n",
              "    border: 2px solid var(--fill-color);\n",
              "    border-color: transparent;\n",
              "    border-bottom-color: var(--fill-color);\n",
              "    animation:\n",
              "      spin 1s steps(1) infinite;\n",
              "  }\n",
              "\n",
              "  @keyframes spin {\n",
              "    0% {\n",
              "      border-color: transparent;\n",
              "      border-bottom-color: var(--fill-color);\n",
              "      border-left-color: var(--fill-color);\n",
              "    }\n",
              "    20% {\n",
              "      border-color: transparent;\n",
              "      border-left-color: var(--fill-color);\n",
              "      border-top-color: var(--fill-color);\n",
              "    }\n",
              "    30% {\n",
              "      border-color: transparent;\n",
              "      border-left-color: var(--fill-color);\n",
              "      border-top-color: var(--fill-color);\n",
              "      border-right-color: var(--fill-color);\n",
              "    }\n",
              "    40% {\n",
              "      border-color: transparent;\n",
              "      border-right-color: var(--fill-color);\n",
              "      border-top-color: var(--fill-color);\n",
              "    }\n",
              "    60% {\n",
              "      border-color: transparent;\n",
              "      border-right-color: var(--fill-color);\n",
              "    }\n",
              "    80% {\n",
              "      border-color: transparent;\n",
              "      border-right-color: var(--fill-color);\n",
              "      border-bottom-color: var(--fill-color);\n",
              "    }\n",
              "    90% {\n",
              "      border-color: transparent;\n",
              "      border-bottom-color: var(--fill-color);\n",
              "    }\n",
              "  }\n",
              "</style>\n",
              "\n",
              "  <script>\n",
              "    async function quickchart(key) {\n",
              "      const quickchartButtonEl =\n",
              "        document.querySelector('#' + key + ' button');\n",
              "      quickchartButtonEl.disabled = true;  // To prevent multiple clicks.\n",
              "      quickchartButtonEl.classList.add('colab-df-spinner');\n",
              "      try {\n",
              "        const charts = await google.colab.kernel.invokeFunction(\n",
              "            'suggestCharts', [key], {});\n",
              "      } catch (error) {\n",
              "        console.error('Error during call to suggestCharts:', error);\n",
              "      }\n",
              "      quickchartButtonEl.classList.remove('colab-df-spinner');\n",
              "      quickchartButtonEl.classList.add('colab-df-quickchart-complete');\n",
              "    }\n",
              "    (() => {\n",
              "      let quickchartButtonEl =\n",
              "        document.querySelector('#df-f6200966-bab8-4e51-9aaf-9b992b1730c2 button');\n",
              "      quickchartButtonEl.style.display =\n",
              "        google.colab.kernel.accessAllowed ? 'block' : 'none';\n",
              "    })();\n",
              "  </script>\n",
              "</div>\n",
              "\n",
              "  <div id=\"id_f9943c7b-c5ac-4266-a945-6b24e988ae1f\">\n",
              "    <style>\n",
              "      .colab-df-generate {\n",
              "        background-color: #E8F0FE;\n",
              "        border: none;\n",
              "        border-radius: 50%;\n",
              "        cursor: pointer;\n",
              "        display: none;\n",
              "        fill: #1967D2;\n",
              "        height: 32px;\n",
              "        padding: 0 0 0 0;\n",
              "        width: 32px;\n",
              "      }\n",
              "\n",
              "      .colab-df-generate:hover {\n",
              "        background-color: #E2EBFA;\n",
              "        box-shadow: 0px 1px 2px rgba(60, 64, 67, 0.3), 0px 1px 3px 1px rgba(60, 64, 67, 0.15);\n",
              "        fill: #174EA6;\n",
              "      }\n",
              "\n",
              "      [theme=dark] .colab-df-generate {\n",
              "        background-color: #3B4455;\n",
              "        fill: #D2E3FC;\n",
              "      }\n",
              "\n",
              "      [theme=dark] .colab-df-generate:hover {\n",
              "        background-color: #434B5C;\n",
              "        box-shadow: 0px 1px 3px 1px rgba(0, 0, 0, 0.15);\n",
              "        filter: drop-shadow(0px 1px 2px rgba(0, 0, 0, 0.3));\n",
              "        fill: #FFFFFF;\n",
              "      }\n",
              "    </style>\n",
              "    <button class=\"colab-df-generate\" onclick=\"generateWithVariable('avg_sales_per_week')\"\n",
              "            title=\"Generate code using this dataframe.\"\n",
              "            style=\"display:none;\">\n",
              "\n",
              "  <svg xmlns=\"http://www.w3.org/2000/svg\" height=\"24px\"viewBox=\"0 0 24 24\"\n",
              "       width=\"24px\">\n",
              "    <path d=\"M7,19H8.4L18.45,9,17,7.55,7,17.6ZM5,21V16.75L18.45,3.32a2,2,0,0,1,2.83,0l1.4,1.43a1.91,1.91,0,0,1,.58,1.4,1.91,1.91,0,0,1-.58,1.4L9.25,21ZM18.45,9,17,7.55Zm-12,3A5.31,5.31,0,0,0,4.9,8.1,5.31,5.31,0,0,0,1,6.5,5.31,5.31,0,0,0,4.9,4.9,5.31,5.31,0,0,0,6.5,1,5.31,5.31,0,0,0,8.1,4.9,5.31,5.31,0,0,0,12,6.5,5.46,5.46,0,0,0,6.5,12Z\"/>\n",
              "  </svg>\n",
              "    </button>\n",
              "    <script>\n",
              "      (() => {\n",
              "      const buttonEl =\n",
              "        document.querySelector('#id_f9943c7b-c5ac-4266-a945-6b24e988ae1f button.colab-df-generate');\n",
              "      buttonEl.style.display =\n",
              "        google.colab.kernel.accessAllowed ? 'block' : 'none';\n",
              "\n",
              "      buttonEl.onclick = () => {\n",
              "        google.colab.notebook.generateWithVariable('avg_sales_per_week');\n",
              "      }\n",
              "      })();\n",
              "    </script>\n",
              "  </div>\n",
              "\n",
              "    </div>\n",
              "  </div>\n"
            ],
            "application/vnd.google.colaboratory.intrinsic+json": {
              "type": "dataframe",
              "variable_name": "avg_sales_per_week",
              "summary": "{\n  \"name\": \"avg_sales_per_week\",\n  \"rows\": 4,\n  \"fields\": [\n    {\n      \"column\": \"week\",\n      \"properties\": {\n        \"dtype\": \"category\",\n        \"num_unique_values\": 4,\n        \"samples\": [\n          2,\n          4,\n          1\n        ],\n        \"semantic_type\": \"\",\n        \"description\": \"\"\n      }\n    },\n    {\n      \"column\": \"AvgWeeklySales\",\n      \"properties\": {\n        \"dtype\": \"number\",\n        \"std\": 0.2420148037192059,\n        \"min\": 53.21306569343066,\n        \"max\": 53.790583941605846,\n        \"num_unique_values\": 4,\n        \"samples\": [\n          53.386569343065695,\n          53.21306569343066,\n          53.790583941605846\n        ],\n        \"semantic_type\": \"\",\n        \"description\": \"\"\n      }\n    }\n  ]\n}"
            }
          },
          "metadata": {},
          "execution_count": 13
        }
      ]
    },
    {
      "cell_type": "markdown",
      "source": [
        "**Average Weekly Sales Trend:**\n",
        "\n",
        "The weekly **average sales trends** indicate consistency in **AvgWeeklySales** across the four weeks. Week 1 has the **highest average sales** at **53.79 thousand**, while Week 4 shows the **lowest average sales** at **53.21 thousand**. Weeks 2 and 3 have similar values of **53.39 thousand** and **53.47 thousand**, respectively, indicating minimal fluctuation. Overall, the sales are relatively stable, reflecting a well-maintained performance over time."
      ],
      "metadata": {
        "id": "h_DABVIlEyq6"
      }
    },
    {
      "cell_type": "code",
      "source": [
        "avg_sales_per_promo = df.groupby('Promotion')['SalesInThousands'].mean().reset_index()\n",
        "avg_sales_per_promo.rename(columns={\"SalesInThousands\": \"AvgWeeklySales\"}, inplace=True)\n",
        "avg_sales_per_promo"
      ],
      "metadata": {
        "colab": {
          "base_uri": "https://localhost:8080/",
          "height": 143
        },
        "id": "-aBwlCTv2FOf",
        "outputId": "5055b39f-e743-4872-f95b-96b80194f9e2"
      },
      "execution_count": null,
      "outputs": [
        {
          "output_type": "execute_result",
          "data": {
            "text/plain": [
              "  Promotion  AvgWeeklySales\n",
              "0         1       58.099012\n",
              "1         2       47.329415\n",
              "2         3       55.364468"
            ],
            "text/html": [
              "\n",
              "  <div id=\"df-462ff8e8-c9a4-4afe-9d39-e1a67897bc96\" class=\"colab-df-container\">\n",
              "    <div>\n",
              "<style scoped>\n",
              "    .dataframe tbody tr th:only-of-type {\n",
              "        vertical-align: middle;\n",
              "    }\n",
              "\n",
              "    .dataframe tbody tr th {\n",
              "        vertical-align: top;\n",
              "    }\n",
              "\n",
              "    .dataframe thead th {\n",
              "        text-align: right;\n",
              "    }\n",
              "</style>\n",
              "<table border=\"1\" class=\"dataframe\">\n",
              "  <thead>\n",
              "    <tr style=\"text-align: right;\">\n",
              "      <th></th>\n",
              "      <th>Promotion</th>\n",
              "      <th>AvgWeeklySales</th>\n",
              "    </tr>\n",
              "  </thead>\n",
              "  <tbody>\n",
              "    <tr>\n",
              "      <th>0</th>\n",
              "      <td>1</td>\n",
              "      <td>58.099012</td>\n",
              "    </tr>\n",
              "    <tr>\n",
              "      <th>1</th>\n",
              "      <td>2</td>\n",
              "      <td>47.329415</td>\n",
              "    </tr>\n",
              "    <tr>\n",
              "      <th>2</th>\n",
              "      <td>3</td>\n",
              "      <td>55.364468</td>\n",
              "    </tr>\n",
              "  </tbody>\n",
              "</table>\n",
              "</div>\n",
              "    <div class=\"colab-df-buttons\">\n",
              "\n",
              "  <div class=\"colab-df-container\">\n",
              "    <button class=\"colab-df-convert\" onclick=\"convertToInteractive('df-462ff8e8-c9a4-4afe-9d39-e1a67897bc96')\"\n",
              "            title=\"Convert this dataframe to an interactive table.\"\n",
              "            style=\"display:none;\">\n",
              "\n",
              "  <svg xmlns=\"http://www.w3.org/2000/svg\" height=\"24px\" viewBox=\"0 -960 960 960\">\n",
              "    <path d=\"M120-120v-720h720v720H120Zm60-500h600v-160H180v160Zm220 220h160v-160H400v160Zm0 220h160v-160H400v160ZM180-400h160v-160H180v160Zm440 0h160v-160H620v160ZM180-180h160v-160H180v160Zm440 0h160v-160H620v160Z\"/>\n",
              "  </svg>\n",
              "    </button>\n",
              "\n",
              "  <style>\n",
              "    .colab-df-container {\n",
              "      display:flex;\n",
              "      gap: 12px;\n",
              "    }\n",
              "\n",
              "    .colab-df-convert {\n",
              "      background-color: #E8F0FE;\n",
              "      border: none;\n",
              "      border-radius: 50%;\n",
              "      cursor: pointer;\n",
              "      display: none;\n",
              "      fill: #1967D2;\n",
              "      height: 32px;\n",
              "      padding: 0 0 0 0;\n",
              "      width: 32px;\n",
              "    }\n",
              "\n",
              "    .colab-df-convert:hover {\n",
              "      background-color: #E2EBFA;\n",
              "      box-shadow: 0px 1px 2px rgba(60, 64, 67, 0.3), 0px 1px 3px 1px rgba(60, 64, 67, 0.15);\n",
              "      fill: #174EA6;\n",
              "    }\n",
              "\n",
              "    .colab-df-buttons div {\n",
              "      margin-bottom: 4px;\n",
              "    }\n",
              "\n",
              "    [theme=dark] .colab-df-convert {\n",
              "      background-color: #3B4455;\n",
              "      fill: #D2E3FC;\n",
              "    }\n",
              "\n",
              "    [theme=dark] .colab-df-convert:hover {\n",
              "      background-color: #434B5C;\n",
              "      box-shadow: 0px 1px 3px 1px rgba(0, 0, 0, 0.15);\n",
              "      filter: drop-shadow(0px 1px 2px rgba(0, 0, 0, 0.3));\n",
              "      fill: #FFFFFF;\n",
              "    }\n",
              "  </style>\n",
              "\n",
              "    <script>\n",
              "      const buttonEl =\n",
              "        document.querySelector('#df-462ff8e8-c9a4-4afe-9d39-e1a67897bc96 button.colab-df-convert');\n",
              "      buttonEl.style.display =\n",
              "        google.colab.kernel.accessAllowed ? 'block' : 'none';\n",
              "\n",
              "      async function convertToInteractive(key) {\n",
              "        const element = document.querySelector('#df-462ff8e8-c9a4-4afe-9d39-e1a67897bc96');\n",
              "        const dataTable =\n",
              "          await google.colab.kernel.invokeFunction('convertToInteractive',\n",
              "                                                    [key], {});\n",
              "        if (!dataTable) return;\n",
              "\n",
              "        const docLinkHtml = 'Like what you see? Visit the ' +\n",
              "          '<a target=\"_blank\" href=https://colab.research.google.com/notebooks/data_table.ipynb>data table notebook</a>'\n",
              "          + ' to learn more about interactive tables.';\n",
              "        element.innerHTML = '';\n",
              "        dataTable['output_type'] = 'display_data';\n",
              "        await google.colab.output.renderOutput(dataTable, element);\n",
              "        const docLink = document.createElement('div');\n",
              "        docLink.innerHTML = docLinkHtml;\n",
              "        element.appendChild(docLink);\n",
              "      }\n",
              "    </script>\n",
              "  </div>\n",
              "\n",
              "\n",
              "<div id=\"df-de7e0a27-e8b9-45bf-a478-996588fcc55d\">\n",
              "  <button class=\"colab-df-quickchart\" onclick=\"quickchart('df-de7e0a27-e8b9-45bf-a478-996588fcc55d')\"\n",
              "            title=\"Suggest charts\"\n",
              "            style=\"display:none;\">\n",
              "\n",
              "<svg xmlns=\"http://www.w3.org/2000/svg\" height=\"24px\"viewBox=\"0 0 24 24\"\n",
              "     width=\"24px\">\n",
              "    <g>\n",
              "        <path d=\"M19 3H5c-1.1 0-2 .9-2 2v14c0 1.1.9 2 2 2h14c1.1 0 2-.9 2-2V5c0-1.1-.9-2-2-2zM9 17H7v-7h2v7zm4 0h-2V7h2v10zm4 0h-2v-4h2v4z\"/>\n",
              "    </g>\n",
              "</svg>\n",
              "  </button>\n",
              "\n",
              "<style>\n",
              "  .colab-df-quickchart {\n",
              "      --bg-color: #E8F0FE;\n",
              "      --fill-color: #1967D2;\n",
              "      --hover-bg-color: #E2EBFA;\n",
              "      --hover-fill-color: #174EA6;\n",
              "      --disabled-fill-color: #AAA;\n",
              "      --disabled-bg-color: #DDD;\n",
              "  }\n",
              "\n",
              "  [theme=dark] .colab-df-quickchart {\n",
              "      --bg-color: #3B4455;\n",
              "      --fill-color: #D2E3FC;\n",
              "      --hover-bg-color: #434B5C;\n",
              "      --hover-fill-color: #FFFFFF;\n",
              "      --disabled-bg-color: #3B4455;\n",
              "      --disabled-fill-color: #666;\n",
              "  }\n",
              "\n",
              "  .colab-df-quickchart {\n",
              "    background-color: var(--bg-color);\n",
              "    border: none;\n",
              "    border-radius: 50%;\n",
              "    cursor: pointer;\n",
              "    display: none;\n",
              "    fill: var(--fill-color);\n",
              "    height: 32px;\n",
              "    padding: 0;\n",
              "    width: 32px;\n",
              "  }\n",
              "\n",
              "  .colab-df-quickchart:hover {\n",
              "    background-color: var(--hover-bg-color);\n",
              "    box-shadow: 0 1px 2px rgba(60, 64, 67, 0.3), 0 1px 3px 1px rgba(60, 64, 67, 0.15);\n",
              "    fill: var(--button-hover-fill-color);\n",
              "  }\n",
              "\n",
              "  .colab-df-quickchart-complete:disabled,\n",
              "  .colab-df-quickchart-complete:disabled:hover {\n",
              "    background-color: var(--disabled-bg-color);\n",
              "    fill: var(--disabled-fill-color);\n",
              "    box-shadow: none;\n",
              "  }\n",
              "\n",
              "  .colab-df-spinner {\n",
              "    border: 2px solid var(--fill-color);\n",
              "    border-color: transparent;\n",
              "    border-bottom-color: var(--fill-color);\n",
              "    animation:\n",
              "      spin 1s steps(1) infinite;\n",
              "  }\n",
              "\n",
              "  @keyframes spin {\n",
              "    0% {\n",
              "      border-color: transparent;\n",
              "      border-bottom-color: var(--fill-color);\n",
              "      border-left-color: var(--fill-color);\n",
              "    }\n",
              "    20% {\n",
              "      border-color: transparent;\n",
              "      border-left-color: var(--fill-color);\n",
              "      border-top-color: var(--fill-color);\n",
              "    }\n",
              "    30% {\n",
              "      border-color: transparent;\n",
              "      border-left-color: var(--fill-color);\n",
              "      border-top-color: var(--fill-color);\n",
              "      border-right-color: var(--fill-color);\n",
              "    }\n",
              "    40% {\n",
              "      border-color: transparent;\n",
              "      border-right-color: var(--fill-color);\n",
              "      border-top-color: var(--fill-color);\n",
              "    }\n",
              "    60% {\n",
              "      border-color: transparent;\n",
              "      border-right-color: var(--fill-color);\n",
              "    }\n",
              "    80% {\n",
              "      border-color: transparent;\n",
              "      border-right-color: var(--fill-color);\n",
              "      border-bottom-color: var(--fill-color);\n",
              "    }\n",
              "    90% {\n",
              "      border-color: transparent;\n",
              "      border-bottom-color: var(--fill-color);\n",
              "    }\n",
              "  }\n",
              "</style>\n",
              "\n",
              "  <script>\n",
              "    async function quickchart(key) {\n",
              "      const quickchartButtonEl =\n",
              "        document.querySelector('#' + key + ' button');\n",
              "      quickchartButtonEl.disabled = true;  // To prevent multiple clicks.\n",
              "      quickchartButtonEl.classList.add('colab-df-spinner');\n",
              "      try {\n",
              "        const charts = await google.colab.kernel.invokeFunction(\n",
              "            'suggestCharts', [key], {});\n",
              "      } catch (error) {\n",
              "        console.error('Error during call to suggestCharts:', error);\n",
              "      }\n",
              "      quickchartButtonEl.classList.remove('colab-df-spinner');\n",
              "      quickchartButtonEl.classList.add('colab-df-quickchart-complete');\n",
              "    }\n",
              "    (() => {\n",
              "      let quickchartButtonEl =\n",
              "        document.querySelector('#df-de7e0a27-e8b9-45bf-a478-996588fcc55d button');\n",
              "      quickchartButtonEl.style.display =\n",
              "        google.colab.kernel.accessAllowed ? 'block' : 'none';\n",
              "    })();\n",
              "  </script>\n",
              "</div>\n",
              "\n",
              "  <div id=\"id_bd90d802-49a5-412a-8b9c-3bfaf6fe6c05\">\n",
              "    <style>\n",
              "      .colab-df-generate {\n",
              "        background-color: #E8F0FE;\n",
              "        border: none;\n",
              "        border-radius: 50%;\n",
              "        cursor: pointer;\n",
              "        display: none;\n",
              "        fill: #1967D2;\n",
              "        height: 32px;\n",
              "        padding: 0 0 0 0;\n",
              "        width: 32px;\n",
              "      }\n",
              "\n",
              "      .colab-df-generate:hover {\n",
              "        background-color: #E2EBFA;\n",
              "        box-shadow: 0px 1px 2px rgba(60, 64, 67, 0.3), 0px 1px 3px 1px rgba(60, 64, 67, 0.15);\n",
              "        fill: #174EA6;\n",
              "      }\n",
              "\n",
              "      [theme=dark] .colab-df-generate {\n",
              "        background-color: #3B4455;\n",
              "        fill: #D2E3FC;\n",
              "      }\n",
              "\n",
              "      [theme=dark] .colab-df-generate:hover {\n",
              "        background-color: #434B5C;\n",
              "        box-shadow: 0px 1px 3px 1px rgba(0, 0, 0, 0.15);\n",
              "        filter: drop-shadow(0px 1px 2px rgba(0, 0, 0, 0.3));\n",
              "        fill: #FFFFFF;\n",
              "      }\n",
              "    </style>\n",
              "    <button class=\"colab-df-generate\" onclick=\"generateWithVariable('avg_sales_per_promo')\"\n",
              "            title=\"Generate code using this dataframe.\"\n",
              "            style=\"display:none;\">\n",
              "\n",
              "  <svg xmlns=\"http://www.w3.org/2000/svg\" height=\"24px\"viewBox=\"0 0 24 24\"\n",
              "       width=\"24px\">\n",
              "    <path d=\"M7,19H8.4L18.45,9,17,7.55,7,17.6ZM5,21V16.75L18.45,3.32a2,2,0,0,1,2.83,0l1.4,1.43a1.91,1.91,0,0,1,.58,1.4,1.91,1.91,0,0,1-.58,1.4L9.25,21ZM18.45,9,17,7.55Zm-12,3A5.31,5.31,0,0,0,4.9,8.1,5.31,5.31,0,0,0,1,6.5,5.31,5.31,0,0,0,4.9,4.9,5.31,5.31,0,0,0,6.5,1,5.31,5.31,0,0,0,8.1,4.9,5.31,5.31,0,0,0,12,6.5,5.46,5.46,0,0,0,6.5,12Z\"/>\n",
              "  </svg>\n",
              "    </button>\n",
              "    <script>\n",
              "      (() => {\n",
              "      const buttonEl =\n",
              "        document.querySelector('#id_bd90d802-49a5-412a-8b9c-3bfaf6fe6c05 button.colab-df-generate');\n",
              "      buttonEl.style.display =\n",
              "        google.colab.kernel.accessAllowed ? 'block' : 'none';\n",
              "\n",
              "      buttonEl.onclick = () => {\n",
              "        google.colab.notebook.generateWithVariable('avg_sales_per_promo');\n",
              "      }\n",
              "      })();\n",
              "    </script>\n",
              "  </div>\n",
              "\n",
              "    </div>\n",
              "  </div>\n"
            ],
            "application/vnd.google.colaboratory.intrinsic+json": {
              "type": "dataframe",
              "variable_name": "avg_sales_per_promo",
              "summary": "{\n  \"name\": \"avg_sales_per_promo\",\n  \"rows\": 3,\n  \"fields\": [\n    {\n      \"column\": \"Promotion\",\n      \"properties\": {\n        \"dtype\": \"category\",\n        \"num_unique_values\": 3,\n        \"samples\": [\n          1,\n          2,\n          3\n        ],\n        \"semantic_type\": \"\",\n        \"description\": \"\"\n      }\n    },\n    {\n      \"column\": \"AvgWeeklySales\",\n      \"properties\": {\n        \"dtype\": \"number\",\n        \"std\": 5.597976152098258,\n        \"min\": 47.32941489361702,\n        \"max\": 58.09901162790698,\n        \"num_unique_values\": 3,\n        \"samples\": [\n          58.09901162790698,\n          47.32941489361702,\n          55.36446808510639\n        ],\n        \"semantic_type\": \"\",\n        \"description\": \"\"\n      }\n    }\n  ]\n}"
            }
          },
          "metadata": {},
          "execution_count": 14
        }
      ]
    },
    {
      "cell_type": "markdown",
      "source": [
        "**Average Weekly Sales per Promotion:**\n",
        "\n",
        "The **average weekly sales** vary significantly across the three promotions. **Promotion 1** achieves the **highest average sales** at **58.10 thousand**, indicating its strong effectiveness. In contrast, **Promotion 2** has the **lowest average sales** at **47.33 thousand**, suggesting it is the least effective. **Promotion 3** performs moderately with an average sales figure of **55.36 thousand**, showing better results than Promotion 2 but falling short of Promotion 1. These differences highlight a clear variation in the impact of the promotions."
      ],
      "metadata": {
        "id": "rnOdsj4TFQOi"
      }
    },
    {
      "cell_type": "markdown",
      "source": [
        "# **A/B Test**"
      ],
      "metadata": {
        "id": "mHHFyq3sowlY"
      }
    },
    {
      "cell_type": "markdown",
      "source": [
        "![AB Test.webp](data:image/webp;base64,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)"
      ],
      "metadata": {
        "id": "6p9iPcla7rSI"
      }
    },
    {
      "cell_type": "markdown",
      "source": [
        "## **Setting up the Hypothesis**"
      ],
      "metadata": {
        "id": "jeESRBngFmuz"
      }
    },
    {
      "cell_type": "markdown",
      "source": [
        "### **Null and Alternative Hypothesis:**\n",
        "\n",
        "1. **Null Hypothesis (\\$H_{0}$\\)**:  \n",
        "   The average weekly sales for the three promotions are equal.  \n",
        "\n",
        "2. **Alternative Hypothesis \\($H_{a}$\\)**:  \n",
        "   At least one promotion has a different average weekly sales compared to the others.  \n",
        "  \n",
        "\n",
        "---\n",
        "\n",
        "### **Explanation:**\n",
        "The ANOVA test will compare the means of the three groups (Promotions 1, 2, and 3) to see if there are statistically significant differences between them. If the null hypothesis is rejected, it indicates that at least one promotion performs differently in terms of average weekly sales.\n",
        "\n",
        "Once the ANOVA test is complete, if the results are significant, follow-up pairwise comparisons (e.g., Tukey’s HSD test) can be used to identify which promotions differ."
      ],
      "metadata": {
        "id": "OCSQ47y44Do9"
      }
    },
    {
      "cell_type": "markdown",
      "source": [
        "## **Choosing the variables**"
      ],
      "metadata": {
        "id": "pAETEZLI9fvU"
      }
    },
    {
      "cell_type": "markdown",
      "source": [
        "**Purpose:**\n",
        "\n",
        "Making the groups to prepare separate subsets of sales data for each promotion, which are typically used for further analysis, such as comparing sales performance across promotions or running statistical tests like the **Kruskal-Wallis test** or **Tukey's HSD test**."
      ],
      "metadata": {
        "id": "u1nTAjIsF3d6"
      }
    },
    {
      "cell_type": "code",
      "source": [
        "sales_promotion_1 = df[df['Promotion'] == 1]['SalesInThousands']\n",
        "sales_promotion_2 = df[df['Promotion'] == 2]['SalesInThousands']\n",
        "sales_promotion_3 = df[df['Promotion'] == 3]['SalesInThousands']"
      ],
      "metadata": {
        "id": "8LODf-Sc3xmD"
      },
      "execution_count": null,
      "outputs": []
    },
    {
      "cell_type": "markdown",
      "source": [
        "## **Choosing a sample size**"
      ],
      "metadata": {
        "id": "AAhoPf1d94Nh"
      }
    },
    {
      "cell_type": "code",
      "source": [
        "np.mean(sales_promotion_1)"
      ],
      "metadata": {
        "colab": {
          "base_uri": "https://localhost:8080/"
        },
        "id": "D6lPKr65-Tq2",
        "outputId": "de014ccd-1236-449b-e400-170b77ece59b"
      },
      "execution_count": null,
      "outputs": [
        {
          "output_type": "execute_result",
          "data": {
            "text/plain": [
              "58.09901162790698"
            ]
          },
          "metadata": {},
          "execution_count": 16
        }
      ]
    },
    {
      "cell_type": "code",
      "source": [
        "np.std(sales_promotion_1, ddof=1)"
      ],
      "metadata": {
        "colab": {
          "base_uri": "https://localhost:8080/"
        },
        "id": "-3ZThmFuAv1D",
        "outputId": "cfe9a63b-6411-42a4-e298-22081fd39619"
      },
      "execution_count": null,
      "outputs": [
        {
          "output_type": "execute_result",
          "data": {
            "text/plain": [
              "16.553781697578724"
            ]
          },
          "metadata": {},
          "execution_count": 17
        }
      ]
    },
    {
      "cell_type": "code",
      "source": [
        "from math import ceil"
      ],
      "metadata": {
        "id": "wx37n4pMA1_Z"
      },
      "execution_count": null,
      "outputs": []
    },
    {
      "cell_type": "code",
      "source": [
        "# Baseline sales\n",
        "baseline = 50   # 50 Thousand\n",
        "\n",
        "# Function to calculate Cohen's d\n",
        "def cohens_d(data, baseline):\n",
        "    mean_sales = np.mean(data)\n",
        "    std_dev = np.std(data, ddof=1)  # Sample standard deviation\n",
        "    return (mean_sales - baseline) / std_dev\n",
        "\n",
        "# Calculate Cohen's d for each campaign\n",
        "effect_size_1 = cohens_d(sales_promotion_1, baseline)\n",
        "effect_size_2 = cohens_d(sales_promotion_2, baseline)\n",
        "effect_size_3 = cohens_d(sales_promotion_3, baseline)\n",
        "\n",
        "effect_size_1, effect_size_2, effect_size_3"
      ],
      "metadata": {
        "colab": {
          "base_uri": "https://localhost:8080/"
        },
        "id": "70i83vhfA-NJ",
        "outputId": "b9ab71d3-0f6e-42b5-8254-385994344df2"
      },
      "execution_count": null,
      "outputs": [
        {
          "output_type": "execute_result",
          "data": {
            "text/plain": [
              "(0.4892544661919519, -0.17675511938264002, 0.3199567128359188)"
            ]
          },
          "metadata": {},
          "execution_count": 19
        }
      ]
    },
    {
      "cell_type": "code",
      "source": [
        "from statsmodels.stats.power import NormalIndPower\n",
        "\n",
        "# Function to calculate required sample size\n",
        "def required_sample_size(effect_size, power=0.8, alpha=0.05, ratio=1):\n",
        "    power_analysis = NormalIndPower()\n",
        "    n = power_analysis.solve_power(\n",
        "        effect_size=effect_size, power=power, alpha=alpha, ratio=ratio\n",
        "    )\n",
        "    return ceil(n)  # Round up to the nearest whole number\n",
        "\n",
        "# Calculate required sample sizes\n",
        "required_n1 = required_sample_size(effect_size_1)\n",
        "required_n2 = required_sample_size(effect_size_2)\n",
        "required_n3 = required_sample_size(effect_size_3)\n",
        "\n",
        "print(f\"Required sample size (minimum) for Campaign 1: {required_n1}\")\n",
        "print(f\"Required sample size (minimum) for Campaign 2: {required_n2}\")\n",
        "print(f\"Required sample size (minimum) for Campaign 3: {required_n3}\")"
      ],
      "metadata": {
        "colab": {
          "base_uri": "https://localhost:8080/"
        },
        "id": "MfYMrm3gBSIZ",
        "outputId": "2d8ff744-a9a1-44cb-d4b4-f4cd3a598c9f"
      },
      "execution_count": null,
      "outputs": [
        {
          "output_type": "stream",
          "name": "stdout",
          "text": [
            "Required sample size (minimum) for Campaign 1: 66\n",
            "Required sample size (minimum) for Campaign 2: 503\n",
            "Required sample size (minimum) for Campaign 3: 154\n"
          ]
        }
      ]
    },
    {
      "cell_type": "markdown",
      "source": [
        "This process aims to **evaluate the effectiveness** of three sales promotion campaigns by calculating **effect sizes** and determining the **minimum sample size** needed for future experiments. First, the **baseline sales** (50,000) are set, representing the average sales level without a promotion. The **Cohen's d** formula is then used to measure the **effect size** of each promotion by comparing the mean sales under each promotion to the baseline, standardized by the **sample standard deviation**.\n",
        "\n",
        "After calculating the effect sizes, the **required sample size** for a statistically significant experiment is determined using the **NormalIndPower** function. This considers a **desired power** (0.8), a significance level (**alpha** = 0.05), and an equal sample size ratio (**ratio** = 1). The goal is to ensure that future experiments can reliably detect the observed effects with sufficient power while avoiding underpowered studies.\n",
        "\n",
        "The results specify the **minimum sample size required** for each promotion campaign. The required sample sizes are **66 for Campaign 1**, **503 for Campaign 2**, and **154 for Campaign 3**, reflecting the varying **effectiveness of promotions**. **Campaigns with smaller effect sizes** require **larger sample sizes** for meaningful results. This insight helps in the **planning and resource allocation** for future tests to validate the promotions."
      ],
      "metadata": {
        "id": "02XnAbIlG1xS"
      }
    },
    {
      "cell_type": "code",
      "source": [
        "len(sales_promotion_1), len(sales_promotion_2), len(sales_promotion_3), len(sales_promotion_1) + len(sales_promotion_2) + len(sales_promotion_3)"
      ],
      "metadata": {
        "colab": {
          "base_uri": "https://localhost:8080/"
        },
        "id": "fCCBiSZOICBE",
        "outputId": "9ad2dd32-efbf-4ed6-be24-aa7b00d733ee"
      },
      "execution_count": null,
      "outputs": [
        {
          "output_type": "execute_result",
          "data": {
            "text/plain": [
              "(172, 188, 188, 548)"
            ]
          },
          "metadata": {},
          "execution_count": 21
        }
      ]
    },
    {
      "cell_type": "markdown",
      "source": [
        "**Limitations and Cautionary Note**\n",
        "\n",
        "One key limitation in this analysis is that **Campaign 2 does not meet the required minimum sample size of 503 locations**, as only 188 locations were included in the experiment. A smaller sample size may reduce the statistical power for Campaign 2, potentially underestimating its effectiveness or making its comparisons less reliable."
      ],
      "metadata": {
        "id": "9yHWgShDn3G5"
      }
    },
    {
      "cell_type": "markdown",
      "source": [
        "## **Perform Hypothesis Test**"
      ],
      "metadata": {
        "id": "69RyJBvElH1A"
      }
    },
    {
      "cell_type": "markdown",
      "source": [
        "### **Check is the data normal or not**\n",
        "\n",
        "**Null and Alternative Hypotheses**:\n",
        "\n",
        "1. **Null Hypothesis (\\$H_{0}$\\)**:  \n",
        "   Data follow Normal Distribution.\n",
        "\n",
        "2. **Alternative Hypothesis \\($H_{a}$\\)**:  \n",
        "   Data does not follow Normal Distribution."
      ],
      "metadata": {
        "id": "132Fwx5qbCMj"
      }
    },
    {
      "cell_type": "code",
      "source": [
        "def normality_check(data1, data2, data3, alpha = 0.05, group1 = '', group2 = '', group3 = ''):\n",
        "  stat1, p1 = stats.shapiro(data1)\n",
        "  stat2, p2 = stats.shapiro(data2)\n",
        "  stat3, p3 = stats.shapiro(data3)\n",
        "  print(f\"For {group1}\\nTest Statistics: {stat1} and P-Value: {p1}\\n\")\n",
        "  print(f\"For {group2}\\nTest Statistics: {stat2} and P-Value: {p2}\\n\")\n",
        "  print(f\"For {group3}\\nTest Statistics: {stat3} and P-Value: {p3}\\n\")\n",
        "\n",
        "  if p1 < alpha and p2 < alpha and p3 < alpha:\n",
        "    print(f\"Given that P < {alpha} for all three groups, we reject the null hypothesis that the data in each group are normally distributed. Go to Kruskal-Wallis Test.\")\n",
        "  elif p1 > alpha and p2 > alpha and p3 > alpha:\n",
        "    print(f\"Given that P > {alpha} for all three groups, we fail to reject the null hypothesis that the data in each group are normally distributed. Go to Levene Test to test the homogeneity of variances\")\n",
        "  elif p1 < alpha and p2 < alpha and p3 > alpha:\n",
        "    print(f\"Groups 1 and 2 have P < {alpha} (not normally distributed), but Group 3 has P > {alpha} (normally distributed). Go to Kruskal-Wallis Test.\")\n",
        "  elif p1 < alpha and p2 > alpha and p3 < alpha:\n",
        "    print(f\"Groups 1 and 3 have P < {alpha} (not normally distributed), but Group 2 has P > {alpha} (normally distributed). Go to Kruskal-Wallis Test.\")\n",
        "  elif p1 > alpha and p2 < alpha and p3 < alpha:\n",
        "    print(f\"Groups 2 and 3 have P < {alpha} (not normally distributed), but Group 1 has P > {alpha} (normally distributed). Go to Kruskal-Wallis Test.\")\n",
        "  elif p1 > alpha and p2 > alpha and p3 < alpha:\n",
        "    print(f\"Groups 1 and 2 have P > {alpha} (normally distributed), but Group 3 has P < {alpha} (not normally distributed). Go to Kruskal-Wallis Test.\")\n",
        "  elif p1 > alpha and p2 < alpha and p3 > alpha:\n",
        "    print(f\"Groups 1 and 3 have P > {alpha} (normally distributed), but Group 2 has P < {alpha} (not normally distributed). Go to Kruskal-Wallis Test.\")\n",
        "  elif p1 < alpha and p2 > alpha and p3 > alpha:\n",
        "    print(f\"Group 1 has P < {alpha} (not normally distributed), but Groups 2 and 3 have P > {alpha} (normally distributed). Go to Kruskal-Wallis Test.\")\n",
        "  else:\n",
        "    print(f\"The combination of p-values does not fit any specific pattern (unexpected behavior).\")"
      ],
      "metadata": {
        "id": "s1UIDmGqIPsD"
      },
      "execution_count": null,
      "outputs": []
    },
    {
      "cell_type": "code",
      "source": [
        "sales_promotion_1"
      ],
      "metadata": {
        "colab": {
          "base_uri": "https://localhost:8080/",
          "height": 458
        },
        "id": "WyYvXkI5gXdh",
        "outputId": "3f870d58-d1ed-41e7-f21c-254a55cdf7a5"
      },
      "execution_count": null,
      "outputs": [
        {
          "output_type": "execute_result",
          "data": {
            "text/plain": [
              "8      44.54\n",
              "9      37.94\n",
              "10     45.49\n",
              "11     34.75\n",
              "24     42.92\n",
              "       ...  \n",
              "539    61.63\n",
              "540    59.87\n",
              "541    62.99\n",
              "542    57.20\n",
              "543    64.34\n",
              "Name: SalesInThousands, Length: 172, dtype: float64"
            ],
            "text/html": [
              "<div>\n",
              "<style scoped>\n",
              "    .dataframe tbody tr th:only-of-type {\n",
              "        vertical-align: middle;\n",
              "    }\n",
              "\n",
              "    .dataframe tbody tr th {\n",
              "        vertical-align: top;\n",
              "    }\n",
              "\n",
              "    .dataframe thead th {\n",
              "        text-align: right;\n",
              "    }\n",
              "</style>\n",
              "<table border=\"1\" class=\"dataframe\">\n",
              "  <thead>\n",
              "    <tr style=\"text-align: right;\">\n",
              "      <th></th>\n",
              "      <th>SalesInThousands</th>\n",
              "    </tr>\n",
              "  </thead>\n",
              "  <tbody>\n",
              "    <tr>\n",
              "      <th>8</th>\n",
              "      <td>44.54</td>\n",
              "    </tr>\n",
              "    <tr>\n",
              "      <th>9</th>\n",
              "      <td>37.94</td>\n",
              "    </tr>\n",
              "    <tr>\n",
              "      <th>10</th>\n",
              "      <td>45.49</td>\n",
              "    </tr>\n",
              "    <tr>\n",
              "      <th>11</th>\n",
              "      <td>34.75</td>\n",
              "    </tr>\n",
              "    <tr>\n",
              "      <th>24</th>\n",
              "      <td>42.92</td>\n",
              "    </tr>\n",
              "    <tr>\n",
              "      <th>...</th>\n",
              "      <td>...</td>\n",
              "    </tr>\n",
              "    <tr>\n",
              "      <th>539</th>\n",
              "      <td>61.63</td>\n",
              "    </tr>\n",
              "    <tr>\n",
              "      <th>540</th>\n",
              "      <td>59.87</td>\n",
              "    </tr>\n",
              "    <tr>\n",
              "      <th>541</th>\n",
              "      <td>62.99</td>\n",
              "    </tr>\n",
              "    <tr>\n",
              "      <th>542</th>\n",
              "      <td>57.20</td>\n",
              "    </tr>\n",
              "    <tr>\n",
              "      <th>543</th>\n",
              "      <td>64.34</td>\n",
              "    </tr>\n",
              "  </tbody>\n",
              "</table>\n",
              "<p>172 rows × 1 columns</p>\n",
              "</div><br><label><b>dtype:</b> float64</label>"
            ]
          },
          "metadata": {},
          "execution_count": 26
        }
      ]
    },
    {
      "cell_type": "code",
      "source": [
        "normality_check(data1=sales_promotion_1, data2=sales_promotion_2, data3=sales_promotion_3, group1='Promotion 1', group2='Promotion 2', group3='Promotion 3')"
      ],
      "metadata": {
        "colab": {
          "base_uri": "https://localhost:8080/"
        },
        "id": "hVLF2fLagMs5",
        "outputId": "9390ee4b-78bb-4836-c733-9722a68d526a"
      },
      "execution_count": null,
      "outputs": [
        {
          "output_type": "stream",
          "name": "stdout",
          "text": [
            "For Promotion 1\n",
            "Test Statistics: 0.9152999060992891 and P-Value: 1.97726450444774e-08\n",
            "\n",
            "For Promotion 2\n",
            "Test Statistics: 0.914509809064016 and P-Value: 5.457099666274281e-09\n",
            "\n",
            "For Promotion 3\n",
            "Test Statistics: 0.9207683041490243 and P-Value: 1.49946592611918e-08\n",
            "\n",
            "Given that P < 0.05 for all three groups, we reject the null hypothesis that the data in each group are normally distributed. Go to Kruskal-Wallis Test.\n"
          ]
        }
      ]
    },
    {
      "cell_type": "markdown",
      "source": [
        "**Conclusion from Normality Test**:\n",
        "\n",
        "The results indicate that **p-values are less than 0.05** for all three promotions. This means we reject the null hypothesis that the sales data for each group (Promotion 1, Promotion 2, and Promotion 3) follow a normal distribution. Since the assumption of normality is violated, we cannot use parametric tests such as ANOVA for comparing group means.\n",
        "\n",
        "---\n",
        "\n",
        "**Next Step: Kruskal-Wallis Test**\n",
        "\n",
        "Since the data does not follow a normal distribution, we proceed with the **Kruskal-Wallis Test**, which is a non-parametric test that compares the medians of more than two groups to determine if there are statistically significant differences among them."
      ],
      "metadata": {
        "id": "yKBkm--flpZA"
      }
    },
    {
      "cell_type": "markdown",
      "source": [
        "### **Hypotheses for Kruskal-Wallis Test:**\n",
        "- **Null Hypothesis (H₀):** The avearge of weekly sales for all three promotions are equal.\n",
        "\n",
        "- **Alternative Hypothesis (H₁):** At least one promotion's average weekly sales is significantly different from the others."
      ],
      "metadata": {
        "id": "MfIARUBPl6zn"
      }
    },
    {
      "cell_type": "code",
      "source": [
        "def kruskal_wallis_test(group1, group2, group3, alpha = 0.05):\n",
        "  stat, p = stats.kruskal(group1, group2, group3)\n",
        "\n",
        "  print(f\"Test Statistics: {stat} and P-Value: {p}\\n\")\n",
        "\n",
        "  if p < 0.05:\n",
        "    print(f\"Given that P < {alpha}, we reject the null hypothesis so so at least one promotion has a different average weekly sales compared to the others.\")\n",
        "  else:\n",
        "    print(f\"Given that p > {alpha}, we fail to reject the null hypothesis that the average weekly sales for the three promotions are equal.\")"
      ],
      "metadata": {
        "id": "8dTHBcNOgc5I"
      },
      "execution_count": null,
      "outputs": []
    },
    {
      "cell_type": "code",
      "source": [
        "kruskal_wallis_test(group1=sales_promotion_1, group2=sales_promotion_2, group3=sales_promotion_3)"
      ],
      "metadata": {
        "colab": {
          "base_uri": "https://localhost:8080/"
        },
        "id": "GIi-6fm0ipyo",
        "outputId": "65e83f2e-43c9-46d1-b58c-fd7f337084bc"
      },
      "execution_count": null,
      "outputs": [
        {
          "output_type": "stream",
          "name": "stdout",
          "text": [
            "Test Statistics: 53.29475169322799 and P-Value: 2.6741866266697816e-12\n",
            "\n",
            "Given that P < 0.05, we reject the null hypothesis so so at least one promotion has a different average weekly sales compared to the others.\n"
          ]
        }
      ]
    },
    {
      "cell_type": "markdown",
      "source": [
        "**Conclusion from Kruskal-Wallis Test:**\n",
        "\n",
        "The Kruskal-Wallis test results show a **test statistic of 53.29** and a **p-value of 2.67 × 10⁻¹²**. Since the p-value is less than 0.05, we reject the null hypothesis. This means that there is a statistically significant difference in the median weekly sales between at least one pair of promotions."
      ],
      "metadata": {
        "id": "n-13j2mZmyi3"
      }
    },
    {
      "cell_type": "markdown",
      "source": [
        "### **Tukey's HSD Test**\n",
        "\n",
        "Since the Kruskal-Wallis test indicates a significant difference among the groups, we perform **Tukey's HSD (Honestly Significant Difference) test** to identify which specific promotions differ in their weekly sales."
      ],
      "metadata": {
        "id": "_-nhK2iXm-g_"
      }
    },
    {
      "cell_type": "code",
      "source": [
        "from statsmodels.stats.multicomp import pairwise_tukeyhsd"
      ],
      "metadata": {
        "id": "dSCNuYeciywP"
      },
      "execution_count": null,
      "outputs": []
    },
    {
      "cell_type": "code",
      "source": [
        "tukey = pairwise_tukeyhsd(endog=df['SalesInThousands'], groups=df['Promotion'], alpha=0.05)\n",
        "print(tukey)"
      ],
      "metadata": {
        "colab": {
          "base_uri": "https://localhost:8080/"
        },
        "id": "yHNEBEUQjK5X",
        "outputId": "30bc83a0-4797-48db-82f5-a1cfb0b50a06"
      },
      "execution_count": null,
      "outputs": [
        {
          "output_type": "stream",
          "name": "stdout",
          "text": [
            " Multiple Comparison of Means - Tukey HSD, FWER=0.05 \n",
            "=====================================================\n",
            "group1 group2 meandiff p-adj   lower    upper  reject\n",
            "-----------------------------------------------------\n",
            "     1      2 -10.7696    0.0 -14.7738 -6.7654   True\n",
            "     1      3  -2.7345 0.2444  -6.7388  1.2697  False\n",
            "     2      3   8.0351    0.0   4.1208 11.9493   True\n",
            "-----------------------------------------------------\n"
          ]
        }
      ]
    },
    {
      "cell_type": "code",
      "source": [
        "tukey.plot_simultaneous()\n",
        "plt.title(\"Tukey HSD Test Results\")\n",
        "plt.show()"
      ],
      "metadata": {
        "colab": {
          "base_uri": "https://localhost:8080/",
          "height": 545
        },
        "id": "UP5yQi8xjegA",
        "outputId": "746dec7f-8002-4d9e-ba4b-c14746dcba9e"
      },
      "execution_count": null,
      "outputs": [
        {
          "output_type": "display_data",
          "data": {
            "text/plain": [
              "<Figure size 1000x600 with 1 Axes>"
            ],
            "image/png": "[encoded data removed]"
          },
          "metadata": {}
        }
      ]
    },
    {
      "cell_type": "code",
      "source": [
        "print(avg_sales_per_promo)"
      ],
      "metadata": {
        "colab": {
          "base_uri": "https://localhost:8080/"
        },
        "id": "f9PPmRfYjs8n",
        "outputId": "b926b7df-2035-4080-c584-69a7fda4148e"
      },
      "execution_count": null,
      "outputs": [
        {
          "output_type": "stream",
          "name": "stdout",
          "text": [
            "  Promotion  AvgWeeklySales\n",
            "0         1       58.099012\n",
            "1         2       47.329415\n",
            "2         3       55.364468\n"
          ]
        }
      ]
    },
    {
      "cell_type": "markdown",
      "source": [
        "**Interpretation of Tukey HSD Results**:\n",
        "\n",
        "The Tukey HSD results provide pairwise comparisons of the mean weekly sales between the three promotions (1, 2, and 3). Here's the detailed interpretation:\n",
        "\n",
        "1. **Promotion 1 vs. Promotion 2**:\n",
        "   - **Mean Difference**: The average weekly sales for Promotion 1 are **10.77 higher** than Promotion 2.\n",
        "   - **p-adj (Adjusted p-value)**: `0.0`, indicating a **statistically significant difference** between the sales of Promotions 1 and 2.\n",
        "   - **Confidence Interval**: The difference lies between `-14.77` and `-6.77`, which does not include 0, confirming significance.\n",
        "   - **Reject**: `True`, indicating the null hypothesis (no difference in sales) is rejected.\n",
        "\n",
        "2. **Promotion 1 vs. Promotion 3**:\n",
        "   - **Mean Difference**: The average weekly sales for Promotion 1 are **2.73 higher** than Promotion 3.\n",
        "   - **p-adj**: `0.2444`, which is **not statistically significant**.\n",
        "   - **Confidence Interval**: The range is `-6.74` to `1.27`, which includes 0, meaning the observed difference might be due to chance.\n",
        "   - **Reject**: `False`, so we fail to reject the null hypothesis (no significant difference).\n",
        "\n",
        "3. **Promotion 2 vs. Promotion 3**:\n",
        "   - **Mean Difference**: The average weekly sales for Promotion 3 are **8.04 higher** than Promotion 2.\n",
        "   - **p-adj**: `0.0`, indicating a **statistically significant difference**.\n",
        "   - **Confidence Interval**: The difference lies between `4.12` and `11.95`, which does not include 0, confirming significance.\n",
        "   - **Reject**: `True`, indicating the null hypothesis is rejected.\n",
        "\n",
        "---\n",
        "\n",
        "**Real Data Context**:\n",
        "\n",
        "| Promotion | AvgWeeklySales |\n",
        "|-----------|----------------|\n",
        "| 1         | 58.10          |\n",
        "| 2         | 47.33          |\n",
        "| 3         | 55.36          |\n",
        "\n",
        "- **Promotion 1 vs. 2**: The difference in average weekly sales is significant, confirming that **Promotion 1** performs significantly better than **Promotion 2**.\n",
        "- **Promotion 1 vs. 3**: There is no statistically significant difference between **Promotion 1** and **Promotion 3**.\n",
        "- **Promotion 2 vs. 3**: The difference in average weekly sales is significant, confirming that **Promotion 3** performs significantly better than **Promotion 2**.\n",
        "\n",
        "---\n",
        "\n",
        "**Interpretation with Caution:**\n",
        "\n",
        "The results should be interpreted with caution, particularly for Campaign 2. While the Kruskal-Wallis and Tukey HSD tests indicate significant differences in sales between promotions, the underrepresentation of Campaign 2 could skew the results, limiting the generalizability of these findings. Further experimentation with an adequate sample size for Campaign 2 is recommended to confirm these conclusions."
      ],
      "metadata": {
        "id": "OfSR03Pik0aQ"
      }
    },
    {
      "cell_type": "markdown",
      "source": [
        "# **Conclusion**:"
      ],
      "metadata": {
        "id": "MSZx5muKohwv"
      }
    },
    {
      "cell_type": "markdown",
      "source": [
        "- **Best Performing Promotions**: Promotions **1** and **3** perform better in terms of average weekly sales.\n",
        "- **Worst Performing Promotion**: Promotion **2** has significantly lower sales than the other two.\n",
        "- **Recommendation**: Choose **Promotion 1** or **Promotion 3**, as there is no significant difference between these two. Further analysis may include cost-effectiveness or qualitative feedback to make the final decision."
      ],
      "metadata": {
        "id": "v8vqX1iGoXRI"
      }
    }
  ]
}